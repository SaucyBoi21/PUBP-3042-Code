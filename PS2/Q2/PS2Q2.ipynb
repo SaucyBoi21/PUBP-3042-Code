{
 "cells": [
  {
   "cell_type": "code",
   "execution_count": 238,
   "metadata": {},
   "outputs": [],
   "source": [
    "import pandas as pd\n",
    "import numpy as np\n",
    "import matplotlib.pyplot as plt\n",
    "from scipy import stats"
   ]
  },
  {
   "cell_type": "code",
   "execution_count": 239,
   "metadata": {},
   "outputs": [],
   "source": [
    "filepath = './meter-readings-small_DOWNLOADED.csv'"
   ]
  },
  {
   "cell_type": "code",
   "execution_count": 240,
   "metadata": {},
   "outputs": [
    {
     "name": "stdout",
     "output_type": "stream",
     "text": [
      "           id   l_id  Building  Address  Apt  AptSize  Bathrooms  \\\n",
      "0     3100101    NaN  Sawtelle     3100  101        3          2   \n",
      "1     3100102    NaN  Sawtelle     3100  102        2          2   \n",
      "2     3100103  132.0  Sawtelle     3100  103        2          2   \n",
      "3     3100201    NaN  Sawtelle     3100  201        3          2   \n",
      "4     3100202    NaN  Sawtelle     3100  202        2          1   \n",
      "...       ...    ...       ...      ...  ...      ...        ...   \n",
      "1099  3360308    NaN  Sawtelle     3360  308        2          2   \n",
      "1100  3360309    NaN  Sawtelle     3360  309        2          2   \n",
      "1101  3360310    NaN  Sawtelle     3360  310        2          2   \n",
      "1102  3360311    NaN  Sawtelle     3360  311        2          2   \n",
      "1103  3360312    NaN  Sawtelle     3360  312        2          2   \n",
      "\n",
      "      MaxOccupants   Sqft  NumberConnect  \n",
      "0              6.0    NaN              2  \n",
      "1              4.0    NaN              2  \n",
      "2              4.0    NaN              2  \n",
      "3              6.0    NaN              2  \n",
      "4              4.0    NaN              2  \n",
      "...            ...    ...            ...  \n",
      "1099           NaN  915.0              2  \n",
      "1100           NaN  915.0              2  \n",
      "1101           NaN  910.0              2  \n",
      "1102           NaN  915.0              2  \n",
      "1103           NaN  910.0              2  \n",
      "\n",
      "[1104 rows x 10 columns]\n"
     ]
    }
   ],
   "source": [
    "df_original = pd.read_csv(filepath)\n",
    "df = df_original.drop(df_original.columns[10:57], axis=1)\n",
    "print(df)"
   ]
  },
  {
   "cell_type": "code",
   "execution_count": 241,
   "metadata": {},
   "outputs": [
    {
     "name": "stdout",
     "output_type": "stream",
     "text": [
      "           id   l_id  Building  Address  Apt  AptSize  Bathrooms  \\\n",
      "0     3100101    NaN  Sawtelle     3100  101        3          2   \n",
      "1     3100102    NaN  Sawtelle     3100  102        2          2   \n",
      "2     3100103  132.0  Sawtelle     3100  103        2          2   \n",
      "3     3100201    NaN  Sawtelle     3100  201        3          2   \n",
      "4     3100202    NaN  Sawtelle     3100  202        2          1   \n",
      "...       ...    ...       ...      ...  ...      ...        ...   \n",
      "1099  3360308    NaN  Sawtelle     3360  308        2          2   \n",
      "1100  3360309    NaN  Sawtelle     3360  309        2          2   \n",
      "1101  3360310    NaN  Sawtelle     3360  310        2          2   \n",
      "1102  3360311    NaN  Sawtelle     3360  311        2          2   \n",
      "1103  3360312    NaN  Sawtelle     3360  312        2          2   \n",
      "\n",
      "      MaxOccupants   Sqft  NumberConnect  ...  7/29/13 8/12/13 8/26/13  \\\n",
      "0              6.0    NaN              2  ...    83561   83677   83821   \n",
      "1              4.0    NaN              2  ...    73633   73675   73703   \n",
      "2              4.0    NaN              2  ...    55828   55910   55997   \n",
      "3              6.0    NaN              2  ...    86879   86979   87082   \n",
      "4              4.0    NaN              2  ...    57688   57811   57961   \n",
      "...            ...    ...            ...  ...      ...     ...     ...   \n",
      "1099           NaN  915.0              2  ...    27020   27101   27189   \n",
      "1100           NaN  915.0              2  ...    35914   36036   36189   \n",
      "1101           NaN  910.0              2  ...    34790   34936   35095   \n",
      "1102           NaN  915.0              2  ...    30891   30983   31198   \n",
      "1103           NaN  910.0              2  ...    20300   20356   20368   \n",
      "\n",
      "      9/16/13  9/27/13  10/11/13  10/25/13  11/8/13  11/22/13  12/6/13  \n",
      "0       84087  84190.0   84338.0     84483      NaN     84733  84890.0  \n",
      "1       73738  73793.0   73953.0     74146      NaN     74679  74977.0  \n",
      "2       56154  56221.0   56307.0     56386      NaN     56561  56651.0  \n",
      "3       87285  87372.0   87480.0     87597      NaN     87828  87964.0  \n",
      "4       58242  58351.0   58528.0     58662      NaN     59959  59121.0  \n",
      "...       ...      ...       ...       ...      ...       ...      ...  \n",
      "1099    27376  27447.0   27549.0     27627      NaN     27784  27848.0  \n",
      "1100    36332  36480.0   36631.0     36716      NaN     36928  37015.0  \n",
      "1101    35250  35331.0   35444.0     35566      NaN     35827  36096.0  \n",
      "1102    31327  31418.0   31514.0     31624      NaN     31803  31883.0  \n",
      "1103    20430  20469.0   20520.0     20577      NaN     20694  20798.0  \n",
      "\n",
      "[1104 rows x 57 columns]\n"
     ]
    }
   ],
   "source": [
    "for i in range(10,57):\n",
    "    df_original.iloc[:, i] = pd.to_numeric(df_original.iloc[:, i],  errors='coerce')\n",
    "\n",
    "\n",
    "print(df_original)\n",
    "    "
   ]
  },
  {
   "cell_type": "code",
   "execution_count": 242,
   "metadata": {},
   "outputs": [
    {
     "name": "stdout",
     "output_type": "stream",
     "text": [
      "           id   l_id  Building  Address  Apt  AptSize  Bathrooms  \\\n",
      "0     3100101    NaN  Sawtelle     3100  101        3          2   \n",
      "1     3100102    NaN  Sawtelle     3100  102        2          2   \n",
      "2     3100103  132.0  Sawtelle     3100  103        2          2   \n",
      "3     3100201    NaN  Sawtelle     3100  201        3          2   \n",
      "4     3100202    NaN  Sawtelle     3100  202        2          1   \n",
      "...       ...    ...       ...      ...  ...      ...        ...   \n",
      "1099  3360308    NaN  Sawtelle     3360  308        2          2   \n",
      "1100  3360309    NaN  Sawtelle     3360  309        2          2   \n",
      "1101  3360310    NaN  Sawtelle     3360  310        2          2   \n",
      "1102  3360311    NaN  Sawtelle     3360  311        2          2   \n",
      "1103  3360312    NaN  Sawtelle     3360  312        2          2   \n",
      "\n",
      "      MaxOccupants   Sqft  NumberConnect  ... month 46 month 47 month 48  \\\n",
      "0              6.0    NaN              2  ...      137      116      144   \n",
      "1              4.0    NaN              2  ...      100       42       28   \n",
      "2              4.0    NaN              2  ...       88       82       87   \n",
      "3              6.0    NaN              2  ...       95      100      103   \n",
      "4              4.0    NaN              2  ...      104      123      150   \n",
      "...            ...    ...            ...  ...      ...      ...      ...   \n",
      "1099           NaN  915.0              2  ...       83       81       88   \n",
      "1100           NaN  915.0              2  ...      186      122      153   \n",
      "1101           NaN  910.0              2  ...      113      146      159   \n",
      "1102           NaN  915.0              2  ...      112       92      215   \n",
      "1103           NaN  910.0              2  ...       48       56       12   \n",
      "\n",
      "      month 49  month 50  month 51  month 52  month 53  month 54  month 55  \n",
      "0          266     103.0     148.0     145.0       NaN       NaN     157.0  \n",
      "1           35      55.0     160.0     193.0       NaN       NaN     298.0  \n",
      "2          157      67.0      86.0      79.0       NaN       NaN      90.0  \n",
      "3          203      87.0     108.0     117.0       NaN       NaN     136.0  \n",
      "4          281     109.0     177.0     134.0       NaN       NaN    -838.0  \n",
      "...        ...       ...       ...       ...       ...       ...       ...  \n",
      "1099       187      71.0     102.0      78.0       NaN       NaN      64.0  \n",
      "1100       143     148.0     151.0      85.0       NaN       NaN      87.0  \n",
      "1101       155      81.0     113.0     122.0       NaN       NaN     269.0  \n",
      "1102       129      91.0      96.0     110.0       NaN       NaN      80.0  \n",
      "1103        62      39.0      51.0      57.0       NaN       NaN     104.0  \n",
      "\n",
      "[1104 rows x 56 columns]\n"
     ]
    }
   ],
   "source": [
    "for i in range(10, 56):\n",
    "    new_column = df_original.iloc[:,i+1] - df_original.iloc[:,i]\n",
    "    column_name = f\"month {i}\"\n",
    "    df[column_name] = new_column\n",
    "    #df = pd.concat([df, new_column], axis=1)\n",
    "\n",
    "print(df)\n",
    "    "
   ]
  },
  {
   "cell_type": "code",
   "execution_count": 243,
   "metadata": {},
   "outputs": [
    {
     "name": "stdout",
     "output_type": "stream",
     "text": [
      "           id        l_id  Building  Address  Apt  AptSize  Bathrooms  \\\n",
      "0     3100101         NaN       NaN     3100  101        3          2   \n",
      "1     3100102         NaN       NaN     3100  102        2          2   \n",
      "2     3100103  132.000000       NaN     3100  103        2          2   \n",
      "3     3100201  126.666667       NaN     3100  201        3          2   \n",
      "4     3100202  121.333333       NaN     3100  202        2          1   \n",
      "...       ...         ...       ...      ...  ...      ...        ...   \n",
      "1099  3360308   44.000000       NaN     3360  308        2          2   \n",
      "1100  3360309   44.000000       NaN     3360  309        2          2   \n",
      "1101  3360310   44.000000       NaN     3360  310        2          2   \n",
      "1102  3360311   44.000000       NaN     3360  311        2          2   \n",
      "1103  3360312   44.000000       NaN     3360  312        2          2   \n",
      "\n",
      "      MaxOccupants   Sqft  NumberConnect  ...  month 46  month 47  month 48  \\\n",
      "0              6.0    NaN              2  ...     137.0     116.0     144.0   \n",
      "1              4.0    NaN              2  ...     100.0      42.0      28.0   \n",
      "2              4.0    NaN              2  ...      88.0      82.0      87.0   \n",
      "3              6.0    NaN              2  ...      95.0     100.0     103.0   \n",
      "4              4.0    NaN              2  ...     104.0     123.0     150.0   \n",
      "...            ...    ...            ...  ...       ...       ...       ...   \n",
      "1099           4.0  915.0              2  ...      83.0      81.0      88.0   \n",
      "1100           4.0  915.0              2  ...     186.0     122.0     153.0   \n",
      "1101           4.0  910.0              2  ...     113.0     146.0     159.0   \n",
      "1102           4.0  915.0              2  ...     112.0      92.0     215.0   \n",
      "1103           4.0  910.0              2  ...      48.0      56.0      12.0   \n",
      "\n",
      "      month 49  month 50  month 51  month 52  month 53  month 54  month 55  \n",
      "0        266.0     103.0     148.0     145.0       NaN       NaN     157.0  \n",
      "1         35.0      55.0     160.0     193.0       NaN       NaN     298.0  \n",
      "2        157.0      67.0      86.0      79.0       NaN       NaN      90.0  \n",
      "3        203.0      87.0     108.0     117.0       NaN       NaN     136.0  \n",
      "4        281.0     109.0     177.0     134.0       NaN       NaN     103.0  \n",
      "...        ...       ...       ...       ...       ...       ...       ...  \n",
      "1099     187.0      71.0     102.0      78.0     100.0      89.0      64.0  \n",
      "1100     143.0     148.0     151.0      85.0     100.0      89.0      87.0  \n",
      "1101     155.0      81.0     113.0     122.0     100.0      89.0     269.0  \n",
      "1102     129.0      91.0      96.0     110.0     100.0      89.0      80.0  \n",
      "1103      62.0      39.0      51.0      57.0     100.0      89.0     104.0  \n",
      "\n",
      "[1104 rows x 56 columns]\n"
     ]
    }
   ],
   "source": [
    "df = df.where(df.select_dtypes([np.number]) >= 0, np.nan)\n",
    "df = df.infer_objects(copy=False).interpolate()\n",
    "print(df)\n"
   ]
  },
  {
   "cell_type": "code",
   "execution_count": 244,
   "metadata": {},
   "outputs": [
    {
     "name": "stdout",
     "output_type": "stream",
     "text": [
      "Index(['id', 'l_id', 'Building', 'Address', 'Apt', 'AptSize', 'Bathrooms',\n",
      "       'MaxOccupants', 'Sqft', 'NumberConnect', 'month 10', 'month 11',\n",
      "       'month 12', 'month 13', 'month 14', 'month 15', 'month 16', 'month 17',\n",
      "       'month 18', 'month 19', 'month 20', 'month 21', 'month 22', 'month 23',\n",
      "       'month 24', 'month 25', 'month 26', 'month 27', 'month 28', 'month 29',\n",
      "       'month 30', 'month 31', 'month 32', 'month 33', 'month 34', 'month 35',\n",
      "       'month 36', 'month 37', 'month 38', 'month 39', 'month 40', 'month 41',\n",
      "       'month 42', 'month 43', 'month 44', 'month 45', 'month 46', 'month 47',\n",
      "       'month 48', 'month 49', 'month 50', 'month 51', 'month 52', 'month 53',\n",
      "       'month 54', 'month 55'],\n",
      "      dtype='object')\n"
     ]
    }
   ],
   "source": [
    "column_names = df.columns\n",
    "print(column_names)"
   ]
  },
  {
   "cell_type": "code",
   "execution_count": 245,
   "metadata": {},
   "outputs": [
    {
     "name": "stdout",
     "output_type": "stream",
     "text": [
      "      month 12  month 13  month 14  month 15  month 16  month 17  month 18  \\\n",
      "0          NaN     271.0     248.0     248.0     657.0     379.0     276.0   \n",
      "1          NaN     325.0     395.0     540.0     957.0     250.0     192.0   \n",
      "2          NaN     205.0     218.0     267.0     486.0     260.0     209.0   \n",
      "3          NaN     209.0     170.0     256.0     536.0     309.0     244.0   \n",
      "4          NaN     363.0     279.0     321.0     646.0     346.0     235.0   \n",
      "...        ...       ...       ...       ...       ...       ...       ...   \n",
      "1099       NaN     283.0     254.0     272.0     159.0     108.0      97.0   \n",
      "1100       NaN     611.0     507.0     396.0     673.0     575.0     363.0   \n",
      "1101       NaN     194.0     218.0     342.0     650.0     476.0     374.0   \n",
      "1102       NaN     120.0     118.0     148.0     336.0      97.0     137.0   \n",
      "1103       NaN     152.0     118.0     133.0     328.0     228.0     146.0   \n",
      "\n",
      "      month 19  month 20  month 21  month 22  month 23  Building  \n",
      "0        115.0     149.0      60.0     102.0     133.0  Sawtelle  \n",
      "1        116.0     109.0      45.0      72.0     107.0  Sawtelle  \n",
      "2        100.0     107.0      53.0     120.0      93.0  Sawtelle  \n",
      "3        117.0     106.0      52.0     107.0     108.0  Sawtelle  \n",
      "4        107.0     140.0      57.0     134.0     205.0  Sawtelle  \n",
      "...        ...       ...       ...       ...       ...       ...  \n",
      "1099      45.0      45.0      23.0      60.0      57.0  Sawtelle  \n",
      "1100     143.0     176.0      89.0     182.0     229.0  Sawtelle  \n",
      "1101     151.0      97.0      41.0     106.0     102.0  Sawtelle  \n",
      "1102      62.0      35.0      37.0      44.0      46.0  Sawtelle  \n",
      "1103      69.0      69.0      36.0      73.0      67.0  Sawtelle  \n",
      "\n",
      "[1104 rows x 13 columns]\n"
     ]
    }
   ],
   "source": [
    "twelve_month_df = df.iloc[:, 12:24]\n",
    "building_df = df_original.loc[ : , 'Building']\n",
    "subset_df = twelve_month_df.join(building_df)\n",
    "print(subset_df)"
   ]
  },
  {
   "cell_type": "code",
   "execution_count": 246,
   "metadata": {},
   "outputs": [
    {
     "name": "stdout",
     "output_type": "stream",
     "text": [
      "      month 12  month 13  month 14  month 15  month 16  month 17  month 18  \\\n",
      "0          NaN     271.0     248.0     248.0     657.0     379.0     276.0   \n",
      "1          NaN     325.0     395.0     540.0     957.0     250.0     192.0   \n",
      "2          NaN     205.0     218.0     267.0     486.0     260.0     209.0   \n",
      "3          NaN     209.0     170.0     256.0     536.0     309.0     244.0   \n",
      "4          NaN     363.0     279.0     321.0     646.0     346.0     235.0   \n",
      "...        ...       ...       ...       ...       ...       ...       ...   \n",
      "1099       NaN     283.0     254.0     272.0     159.0     108.0      97.0   \n",
      "1100       NaN     611.0     507.0     396.0     673.0     575.0     363.0   \n",
      "1101       NaN     194.0     218.0     342.0     650.0     476.0     374.0   \n",
      "1102       NaN     120.0     118.0     148.0     336.0      97.0     137.0   \n",
      "1103       NaN     152.0     118.0     133.0     328.0     228.0     146.0   \n",
      "\n",
      "      month 19  month 20  month 21  month 22  month 23  \n",
      "0        115.0     149.0      60.0     102.0     133.0  \n",
      "1        116.0     109.0      45.0      72.0     107.0  \n",
      "2        100.0     107.0      53.0     120.0      93.0  \n",
      "3        117.0     106.0      52.0     107.0     108.0  \n",
      "4        107.0     140.0      57.0     134.0     205.0  \n",
      "...        ...       ...       ...       ...       ...  \n",
      "1099      45.0      45.0      23.0      60.0      57.0  \n",
      "1100     143.0     176.0      89.0     182.0     229.0  \n",
      "1101     151.0      97.0      41.0     106.0     102.0  \n",
      "1102      62.0      35.0      37.0      44.0      46.0  \n",
      "1103      69.0      69.0      36.0      73.0      67.0  \n",
      "\n",
      "[651 rows x 12 columns]\n",
      "     month 12  month 13  month 14  month 15  month 16  month 17  month 18  \\\n",
      "148       NaN     129.0     126.0     158.0     354.0     221.0     180.0   \n",
      "149       NaN     153.0     130.0     133.0     276.0     189.0     138.0   \n",
      "150       NaN     170.0     177.0     248.0     397.0     277.0     244.0   \n",
      "151       NaN     138.0     152.0     170.0     379.0     247.0     153.0   \n",
      "152       NaN     335.0     264.0     251.0     411.0     264.0     202.0   \n",
      "..        ...       ...       ...       ...       ...       ...       ...   \n",
      "888       NaN     142.0     148.0     205.0     347.0     253.0     199.0   \n",
      "889       NaN     350.0     285.0     174.0     432.0     290.0     182.0   \n",
      "890       NaN     180.0     241.0     230.0     309.0     406.0     173.0   \n",
      "891       NaN     326.0     186.0     174.0     383.0     220.0     141.0   \n",
      "892       NaN     201.0     186.0     249.0     605.0     339.0     217.0   \n",
      "\n",
      "     month 19  month 20  month 21  month 22  month 23  \n",
      "148      82.0      75.0      33.0      68.0      67.0  \n",
      "149      63.0      54.0      25.0      52.0      80.0  \n",
      "150      80.0      94.0      44.0      93.0      83.0  \n",
      "151      96.0      85.0      45.0      77.0     110.0  \n",
      "152     101.0      99.0      26.0      53.0      43.0  \n",
      "..        ...       ...       ...       ...       ...  \n",
      "888    1071.0      74.0      38.0     147.5      66.0  \n",
      "889     100.0     118.0      64.0     158.0     190.0  \n",
      "890     116.0     107.0      50.0     157.0     137.0  \n",
      "891      66.0      67.0      43.0     109.0     113.0  \n",
      "892      88.0      69.0      33.0      74.0      95.0  \n",
      "\n",
      "[453 rows x 12 columns]\n"
     ]
    }
   ],
   "source": [
    "sawtelle_df = subset_df[subset_df['Building'] == \"Sawtelle\"]\n",
    "sawtelle_df = sawtelle_df.drop(\"Building\", axis=1)\n",
    "sepulveda_df = subset_df[subset_df['Building'] == \"Sepulveda\"]\n",
    "sepulveda_df = sepulveda_df.drop(\"Building\", axis=1)\n",
    "print(sawtelle_df)\n",
    "print(sepulveda_df)"
   ]
  },
  {
   "cell_type": "code",
   "execution_count": 247,
   "metadata": {},
   "outputs": [
    {
     "name": "stdout",
     "output_type": "stream",
     "text": [
      "p value: [           nan 2.29591608e-01 2.47205396e-04 4.51603691e-02\n",
      " 1.17105965e-04 3.11941711e-03 2.63055523e-02 7.93036551e-05\n",
      " 5.62368810e-02 5.43366078e-02 4.32770344e-01 2.11597618e-01]\n"
     ]
    }
   ],
   "source": [
    "t_stat, p_value = stats.ttest_ind(sawtelle_df, sepulveda_df)\n",
    "print(f\"p value: {p_value}\")"
   ]
  },
  {
   "cell_type": "code",
   "execution_count": 248,
   "metadata": {},
   "outputs": [],
   "source": [
    "apt_size_df = df.loc[ : , 'AptSize']\n",
    "bathrooms_df = df.loc[ : , 'Bathrooms']\n",
    "occupants_df = df.loc[ : , 'MaxOccupants']\n",
    "sqft_df = df.loc[ : , 'Sqft']"
   ]
  },
  {
   "cell_type": "code",
   "execution_count": 249,
   "metadata": {},
   "outputs": [
    {
     "name": "stdout",
     "output_type": "stream",
     "text": [
      "[3 2 1]\n",
      "[2 1]\n",
      "[6. 4. 3.]\n",
      "[  nan  790.  935.  890.  845.  595. 1035.  830.  635.  910.  915.  918.]\n"
     ]
    }
   ],
   "source": [
    "def unique_names(df):\n",
    "    print(df.unique())\n",
    "\n",
    "unique_names(apt_size_df)\n",
    "unique_names(bathrooms_df)\n",
    "unique_names(occupants_df)\n",
    "unique_names(sqft_df)"
   ]
  },
  {
   "cell_type": "code",
   "execution_count": 250,
   "metadata": {},
   "outputs": [],
   "source": [
    "apt_size3_df = df[df['AptSize'] == 3]\n",
    "apt_size2_df = df[df['AptSize'] == 2]\n",
    "apt_size1_df = df[df['AptSize'] == 1]\n",
    "bathrooms2_df = df[df['Bathrooms'] == 2]\n",
    "bathrooms1_df = df[df['Bathrooms'] == 1]\n",
    "occupants6_df = df[df['MaxOccupants'] == 6]\n",
    "occupants4_df = df[df['MaxOccupants'] == 4]\n",
    "occupants3_df = df[df['MaxOccupants'] == 3]"
   ]
  },
  {
   "cell_type": "code",
   "execution_count": 251,
   "metadata": {},
   "outputs": [],
   "source": [
    "def get_p_value(df1, df2):\n",
    "    t_stat, p_value = stats.ttest_ind(df1, df2)\n",
    "    print(f\"p_value: {p_value}\")"
   ]
  },
  {
   "cell_type": "code",
   "execution_count": 252,
   "metadata": {},
   "outputs": [
    {
     "name": "stderr",
     "output_type": "stream",
     "text": [
      "/home/itachi/GitHub/PUBP-3042-Code/venv/lib/python3.11/site-packages/scipy/stats/_axis_nan_policy.py:648: RuntimeWarning: Precision loss occurred in moment calculation due to catastrophic cancellation. This occurs when the data are nearly identical. Results may be unreliable.\n",
      "  return result_to_tuple(hypotest_fun_out(*samples, **kwds), n_out)\n"
     ]
    },
    {
     "name": "stdout",
     "output_type": "stream",
     "text": [
      "p_value: [8.16071583e-07            nan            nan 8.13185156e-07\n",
      " 4.70004805e-01 0.00000000e+00 9.12450473e-39 0.00000000e+00\n",
      "            nan 0.00000000e+00            nan            nan\n",
      "            nan 7.82957784e-04 4.67546737e-03 3.62944139e-04\n",
      " 2.37538454e-06 7.74359127e-05 1.57195561e-04 3.52088738e-02\n",
      " 1.27802609e-02 2.11896992e-02 1.69198388e-02 9.67990727e-03\n",
      " 1.32609491e-02 2.00725434e-03 1.35426451e-03 4.87832369e-03\n",
      " 3.91870469e-02 1.90071586e-02 2.45254061e-02 2.10227689e-03\n",
      " 1.06044751e-03 2.09435824e-04 7.30727594e-05 1.39693749e-04\n",
      " 1.06091165e-04 3.81399765e-03 2.18411389e-04 7.65586499e-03\n",
      " 5.15364053e-03 5.23586843e-03 1.64867968e-02 1.16876279e-01\n",
      " 2.10257535e-02 2.88542293e-02 2.12463708e-02 4.35452761e-02\n",
      " 4.01756391e-02 3.67445777e-02 6.85451967e-01 1.13717998e-01\n",
      " 6.82452447e-01            nan            nan 7.37868091e-01]\n",
      "p_value: [2.27658487e-002             nan             nan 2.26612294e-002\n",
      " 1.96678706e-001 0.00000000e+000 0.00000000e+000 1.16745273e-104\n",
      "             nan 2.25576265e-103             nan             nan\n",
      "             nan 3.53095759e-010 2.65627657e-009 1.20012718e-009\n",
      " 6.65311504e-012 7.56056435e-005 2.39786771e-011 2.64389219e-006\n",
      " 5.03068850e-010 2.22348325e-010 7.29864998e-009 1.80550119e-008\n",
      " 2.19249622e-008 3.41838336e-006 4.29093697e-005 2.24213973e-004\n",
      " 1.23864415e-004 5.59690278e-008 5.92678116e-008 4.92727692e-009\n",
      " 5.01677022e-008 1.45312073e-008 6.51241046e-009 3.31183333e-010\n",
      " 6.65071596e-013 4.40178674e-013 9.31128096e-012 3.83518169e-007\n",
      " 1.31902198e-009 3.73776416e-005 3.08481225e-011 2.50238606e-013\n",
      " 3.29058683e-011 1.78279873e-009 2.91537427e-010 9.62286544e-009\n",
      " 1.43105610e-010 2.92526777e-011 2.30042508e-008 8.34677609e-001\n",
      " 2.58339294e-001             nan             nan 9.30583168e-002]\n",
      "p_value: [1.03602374e-01            nan            nan 1.03866042e-01\n",
      " 2.98783473e-01 0.00000000e+00 1.95720612e-06 0.00000000e+00\n",
      "            nan 1.19518321e-05            nan            nan\n",
      "            nan 8.88535157e-12 3.79867519e-09 2.61748136e-06\n",
      " 1.75501432e-09 8.58937616e-13 1.41048343e-10 1.20440553e-02\n",
      " 9.88749764e-06 1.08405565e-03 5.35857068e-05 8.67576752e-06\n",
      " 6.17077776e-08 2.76462766e-04 1.85905456e-03 1.58346739e-02\n",
      " 2.96943962e-03 1.20049309e-08 1.47482501e-06 5.33649524e-10\n",
      " 6.94155072e-08 1.70139194e-07 3.44804085e-09 8.78706838e-12\n",
      " 1.58945663e-11 1.05921340e-05 1.27023910e-08 6.48562388e-08\n",
      " 3.80179728e-12 1.95396276e-11 6.06210940e-16 3.82415370e-03\n",
      " 8.12773115e-19 2.23239654e-10 7.53838434e-11 2.69013987e-10\n",
      " 1.53382111e-11 1.44309787e-11 9.32080865e-01 3.33133982e-01\n",
      " 8.73091596e-01            nan            nan 9.10026757e-01]\n",
      "p_value: [3.87073254e-19            nan            nan 3.84633434e-19\n",
      " 4.34987140e-01 3.04790795e-42 0.00000000e+00 3.75472658e-30\n",
      "            nan 2.00526679e-41            nan            nan\n",
      "            nan 5.39230620e-05 5.35597794e-03 9.86289750e-03\n",
      " 1.07901237e-04 1.02077057e-03 1.21544702e-03 1.69931696e-02\n",
      " 5.56304236e-03 4.89794712e-03 2.35921121e-02 3.25145041e-03\n",
      " 1.05991481e-03 2.30210128e-04 8.05096370e-05 1.32836450e-06\n",
      " 1.13433019e-04 1.53510597e-05 2.52062375e-02 1.20476029e-04\n",
      " 7.99714985e-06 2.10432271e-06 8.82704758e-05 3.40877712e-04\n",
      " 1.85778605e-03 2.11711294e-02 1.11002729e-03 2.18050841e-05\n",
      " 3.14076081e-06 2.60870846e-06 2.97772955e-09 1.29987372e-01\n",
      " 1.21369173e-09 2.60584109e-07 5.44647884e-06 1.80502900e-06\n",
      " 1.41972665e-07 3.06881858e-07 2.82305315e-01 2.18084012e-01\n",
      " 8.19854192e-01            nan            nan 4.32378958e-01]\n",
      "p_value: [7.67461870e-07            nan            nan 7.64768955e-07\n",
      " 4.75055012e-01 0.00000000e+00 7.11879771e-39 0.00000000e+00\n",
      "            nan 0.00000000e+00            nan            nan\n",
      "            nan 7.36764079e-04 4.30653969e-03 3.39475039e-04\n",
      " 2.38522487e-06 7.07797502e-05 1.42730507e-04 3.39136706e-02\n",
      " 1.20665948e-02 2.02932087e-02 1.60094845e-02 9.14970786e-03\n",
      " 1.25439212e-02 1.87179310e-03 1.27170630e-03 4.79773808e-03\n",
      " 3.96236060e-02 1.97334162e-02 2.53956461e-02 2.20882261e-03\n",
      " 1.09409653e-03 2.16242293e-04 7.63432136e-05 1.45138617e-04\n",
      " 1.09772308e-04 3.71910096e-03 2.18769389e-04 7.58622803e-03\n",
      " 5.00386392e-03 8.05008841e-03 1.60627339e-02 1.15549127e-01\n",
      " 2.01183048e-02 2.76446423e-02 2.07352803e-02 4.26908478e-02\n",
      " 3.91508051e-02 3.58867033e-02 6.85267553e-01 1.12353096e-01\n",
      " 6.83323780e-01            nan            nan 7.38237185e-01]\n",
      "p_value: [3.92482291e-002             nan             nan 3.90660702e-002\n",
      " 1.58175678e-001 0.00000000e+000 0.00000000e+000 0.00000000e+000\n",
      "             nan 3.26059379e-101             nan             nan\n",
      "             nan 6.30941405e-010 1.11697958e-008 3.22718849e-009\n",
      " 4.59391397e-012 1.06187025e-004 1.17264853e-010 6.89625757e-006\n",
      " 1.97953195e-009 8.66292090e-010 2.67239970e-008 5.32457055e-008\n",
      " 5.45220915e-008 9.43445582e-006 9.15027354e-005 2.48223647e-004\n",
      " 7.61487678e-005 1.07196291e-008 1.00414783e-008 8.65542292e-010\n",
      " 1.80739137e-008 5.64452062e-009 2.66402070e-009 1.06076549e-010\n",
      " 9.78128149e-014 4.52688601e-013 3.91083623e-012 3.04504526e-007\n",
      " 1.33387926e-009 1.74754402e-005 2.54608865e-011 2.42978787e-013\n",
      " 4.45450503e-011 3.08856578e-009 2.65083891e-010 8.67591274e-009\n",
      " 1.49470905e-010 2.68175310e-011 2.13274471e-008 8.86598237e-001\n",
      " 2.15987794e-001             nan             nan 8.47081352e-002]\n",
      "p_value: [7.33257258e-02            nan            nan 7.35557819e-02\n",
      " 2.30452020e-01 0.00000000e+00 3.19767607e-06 0.00000000e+00\n",
      "            nan 7.73319935e-06            nan            nan\n",
      "            nan 1.85218860e-11 3.67416132e-08 6.92644127e-06\n",
      " 2.56585889e-09 2.91058447e-12 2.00573633e-09 1.97368591e-02\n",
      " 3.01066376e-05 2.03162123e-03 1.50572434e-04 2.38545933e-05\n",
      " 2.22022695e-07 9.00321654e-04 4.21626636e-03 1.54903668e-02\n",
      " 1.70311678e-03 1.43184790e-09 2.74019335e-07 5.46268606e-11\n",
      " 2.28829884e-08 7.29694850e-08 1.92116259e-09 3.29715950e-12\n",
      " 1.64190603e-12 1.13276644e-05 7.50696438e-09 5.90804337e-08\n",
      " 4.61111652e-12 5.28926149e-07 5.82218297e-16 3.95263608e-03\n",
      " 2.20056836e-18 6.59998485e-10 9.17595532e-11 2.72737367e-10\n",
      " 1.73175869e-11 1.50126777e-11 9.28526676e-01 2.86081823e-01\n",
      " 8.90709778e-01            nan            nan 8.97563604e-01]\n"
     ]
    }
   ],
   "source": [
    "get_p_value(apt_size1_df, apt_size2_df)\n",
    "get_p_value(apt_size1_df, apt_size3_df)\n",
    "get_p_value(apt_size2_df, apt_size3_df)\n",
    "get_p_value(bathrooms1_df, bathrooms2_df)\n",
    "get_p_value(occupants3_df,occupants4_df)\n",
    "get_p_value(occupants3_df, occupants6_df)\n",
    "get_p_value(occupants4_df, occupants6_df)"
   ]
  },
  {
   "cell_type": "code",
   "execution_count": 253,
   "metadata": {},
   "outputs": [
    {
     "name": "stdout",
     "output_type": "stream",
     "text": [
      "           id        l_id  Building  Address  Apt  AptSize  Bathrooms  \\\n",
      "0     3100101         NaN       NaN     3100  101        3          2   \n",
      "1     3100102         NaN       NaN     3100  102        2          2   \n",
      "2     3100103  132.000000       NaN     3100  103        2          2   \n",
      "3     3100201  126.666667       NaN     3100  201        3          2   \n",
      "4     3100202  121.333333       NaN     3100  202        2          1   \n",
      "...       ...         ...       ...      ...  ...      ...        ...   \n",
      "1099  3360308   44.000000       NaN     3360  308        2          2   \n",
      "1100  3360309   44.000000       NaN     3360  309        2          2   \n",
      "1101  3360310   44.000000       NaN     3360  310        2          2   \n",
      "1102  3360311   44.000000       NaN     3360  311        2          2   \n",
      "1103  3360312   44.000000       NaN     3360  312        2          2   \n",
      "\n",
      "      MaxOccupants   Sqft  NumberConnect  ...  month 47  month 48  month 49  \\\n",
      "0              6.0    NaN              2  ...     116.0     144.0     266.0   \n",
      "1              4.0    NaN              2  ...      42.0      28.0      35.0   \n",
      "2              4.0    NaN              2  ...      82.0      87.0     157.0   \n",
      "3              6.0    NaN              2  ...     100.0     103.0     203.0   \n",
      "4              4.0    NaN              2  ...     123.0     150.0     281.0   \n",
      "...            ...    ...            ...  ...       ...       ...       ...   \n",
      "1099           4.0  915.0              2  ...      81.0      88.0     187.0   \n",
      "1100           4.0  915.0              2  ...     122.0     153.0     143.0   \n",
      "1101           4.0  910.0              2  ...     146.0     159.0     155.0   \n",
      "1102           4.0  915.0              2  ...      92.0     215.0     129.0   \n",
      "1103           4.0  910.0              2  ...      56.0      12.0      62.0   \n",
      "\n",
      "      month 50  month 51  month 52  month 53  month 54  month 55  block  \n",
      "0        103.0     148.0     145.0       NaN       NaN     157.0      1  \n",
      "1         55.0     160.0     193.0       NaN       NaN     298.0      1  \n",
      "2         67.0      86.0      79.0       NaN       NaN      90.0      1  \n",
      "3         87.0     108.0     117.0       NaN       NaN     136.0      1  \n",
      "4        109.0     177.0     134.0       NaN       NaN     103.0      0  \n",
      "...        ...       ...       ...       ...       ...       ...    ...  \n",
      "1099      71.0     102.0      78.0     100.0      89.0      64.0      1  \n",
      "1100     148.0     151.0      85.0     100.0      89.0      87.0      1  \n",
      "1101      81.0     113.0     122.0     100.0      89.0     269.0      1  \n",
      "1102      91.0      96.0     110.0     100.0      89.0      80.0      1  \n",
      "1103      39.0      51.0      57.0     100.0      89.0     104.0      1  \n",
      "\n",
      "[1104 rows x 57 columns]\n"
     ]
    }
   ],
   "source": [
    "df['block'] = df.groupby([\"Bathrooms\"]).ngroup()\n",
    "print(df)\n"
   ]
  },
  {
   "cell_type": "code",
   "execution_count": 254,
   "metadata": {},
   "outputs": [
    {
     "name": "stdout",
     "output_type": "stream",
     "text": [
      "p_value: [0.96619019        nan        nan 0.96666594 0.60664108 0.29865363\n",
      " 0.02290861 0.4366876         nan 0.49709855        nan        nan\n",
      "        nan 0.05177209 0.21891976 0.08717492 0.16854254 0.04117492\n",
      " 0.14825495 0.38025501 0.02323357 0.87778098 0.84512906 0.04226017\n",
      " 0.04148005 0.040607   0.04127055 0.01595933 0.06752629 0.25481422\n",
      " 0.60624131 0.60219325 0.24077379 0.18571873 0.07568924 0.53617074\n",
      " 0.40914111 0.73252049 0.91987689 0.83374678 0.93005197 0.63882161\n",
      " 0.1826138  0.82271757 0.25364779 0.00652802 0.22175988 0.28731149\n",
      " 0.58215332 0.89954579 0.32239518 0.44303249 0.99975958        nan\n",
      "        nan 0.31015417 0.02290861 0.        ]\n"
     ]
    },
    {
     "name": "stderr",
     "output_type": "stream",
     "text": [
      "/home/itachi/GitHub/PUBP-3042-Code/venv/lib/python3.11/site-packages/scipy/stats/_axis_nan_policy.py:648: RuntimeWarning: Precision loss occurred in moment calculation due to catastrophic cancellation. This occurs when the data are nearly identical. Results may be unreliable.\n",
      "  return result_to_tuple(hypotest_fun_out(*samples, **kwds), n_out)\n"
     ]
    }
   ],
   "source": [
    "df['treatment'] = np.random.permutation([1] * (len(df) // 2) + [0] * (len(df) - len(df) // 2))\n",
    "\n",
    "df_treatment = df[df['treatment'] == 1].reset_index(drop=True)\n",
    "df_observer = df[df['treatment'] == 0].reset_index(drop=True)\n",
    "\n",
    "get_p_value(df_treatment, df_observer)\n"
   ]
  }
 ],
 "metadata": {
  "kernelspec": {
   "display_name": "venv",
   "language": "python",
   "name": "python3"
  },
  "language_info": {
   "codemirror_mode": {
    "name": "ipython",
    "version": 3
   },
   "file_extension": ".py",
   "mimetype": "text/x-python",
   "name": "python",
   "nbconvert_exporter": "python",
   "pygments_lexer": "ipython3",
   "version": "3.11.11"
  }
 },
 "nbformat": 4,
 "nbformat_minor": 2
}
