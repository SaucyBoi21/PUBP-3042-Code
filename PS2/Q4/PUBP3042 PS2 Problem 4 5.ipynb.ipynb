{
  "cells": [
    {
      "cell_type": "markdown",
      "id": "48f5b25c",
      "metadata": {
        "id": "48f5b25c"
      },
      "source": [
        "# Demo: Web Scraping and Data Preprocessing with the GT Catalog"
      ]
    },
    {
      "cell_type": "markdown",
      "id": "bae30648",
      "metadata": {
        "id": "bae30648"
      },
      "source": [
        "### Automate collecting GT course catalog website URLs for all the schools."
      ]
    },
    {
      "cell_type": "code",
      "execution_count": 2,
      "id": "4c89999f",
      "metadata": {
        "id": "4c89999f"
      },
      "outputs": [],
      "source": [
        "# load required packages\n",
        "import requests # grab the content from the websites\n",
        "from bs4 import BeautifulSoup #https://www.crummy.com/software/BeautifulSoup/bs4/doc/\n",
        "import csv\n",
        "import pandas as pd"
      ]
    },
    {
      "cell_type": "code",
      "execution_count": 3,
      "id": "7327a74a",
      "metadata": {
        "id": "7327a74a"
      },
      "outputs": [],
      "source": [
        "url = \"https://catalog.gatech.edu/courses-undergrad/\" # undergraduate level courses\n",
        "\n",
        "page = requests.get(url) # fetch the page\n",
        "\n",
        "soup = BeautifulSoup(page.text, 'html.parser') # parse the HTML content"
      ]
    },
    {
      "cell_type": "code",
      "execution_count": 4,
      "id": "4c1b8296",
      "metadata": {
        "colab": {
          "base_uri": "https://localhost:8080/"
        },
        "id": "4c1b8296",
        "outputId": "1740ae2b-b9ba-4b4f-cbb6-4a253f17f11f"
      },
      "outputs": [
        {
          "name": "stderr",
          "output_type": "stream",
          "text": [
            "/tmp/ipykernel_34928/1782340416.py:4: DeprecationWarning: Call to deprecated method findAll. (Replaced by find_all) -- Deprecated since version 4.0.0.\n",
            "  for item in soup.findAll('a'): # find all anchor (<a>) tags\n"
          ]
        },
        {
          "data": {
            "text/plain": [
              "[<a href=\"/courses-undergrad/\">Undergraduate-​Level Courses</a>,\n",
              " <a href=\"/courses-undergrad/\">Undergraduate-​Level Courses</a>,\n",
              " <a href=\"/courses-undergrad/acct/\">Accounting (ACCT)</a>,\n",
              " <a href=\"/courses-undergrad/ae/\">Aerospace Engineering (AE)</a>,\n",
              " <a href=\"/courses-undergrad/as/\">Air Force Aerospace Studies (AS)</a>,\n",
              " <a href=\"/courses-undergrad/apph/\">Applied Physiology (APPH)</a>,\n",
              " <a href=\"/courses-undergrad/arbc/\">Arabic (ARBC)</a>,\n",
              " <a href=\"/courses-undergrad/arch/\">Architecture (ARCH)</a>,\n",
              " <a href=\"/courses-undergrad/bios/\">Biological Sciences (BIOS)</a>,\n",
              " <a href=\"/courses-undergrad/biol/\">Biology (BIOL)</a>,\n",
              " <a href=\"/courses-undergrad/bmed/\">Biomedical Engineering (BMED)</a>,\n",
              " <a href=\"/courses-undergrad/bc/\">Building Construction (BC)</a>,\n",
              " <a href=\"/courses-undergrad/cetl/\">Center Enhancement-Teach/Learn (CETL)</a>,\n",
              " <a href=\"/courses-undergrad/chbe/\">Chemical &amp; Biomolecular Engr (CHBE)</a>,\n",
              " <a href=\"/courses-undergrad/chem/\">Chemistry (CHEM)</a>,\n",
              " <a href=\"/courses-undergrad/chin/\">Chinese (CHIN)</a>,\n",
              " <a href=\"/courses-undergrad/cp/\">City Planning (CP)</a>,\n",
              " <a href=\"/courses-undergrad/cee/\">Civil and Environmental Engr (CEE)</a>,\n",
              " <a href=\"/courses-undergrad/coa/\">College of Architecture (COA)</a>,\n",
              " <a href=\"/courses-undergrad/coe/\">College of Engineering (COE)</a>,\n",
              " <a href=\"/courses-undergrad/cos/\">College of Sciences (COS)</a>,\n",
              " <a href=\"/courses-undergrad/cx/\">Computational Mod, Sim, &amp; Data (CX)</a>,\n",
              " <a href=\"/courses-undergrad/cs/\">Computer Science (CS)</a>,\n",
              " <a href=\"/courses-undergrad/coop/\">Cooperative Work Assignment (COOP)</a>,\n",
              " <a href=\"/courses-undergrad/ucga/\">Cross Enrollment (UCGA)</a>,\n",
              " <a href=\"/courses-undergrad/eas/\">Earth and Atmospheric Sciences (EAS)</a>,\n",
              " <a href=\"/courses-undergrad/econ/\">Economics (ECON)</a>,\n",
              " <a href=\"/courses-undergrad/ece/\">Electrical &amp; Computer Engr (ECE)</a>,\n",
              " <a href=\"/courses-undergrad/engl/\">English (ENGL)</a>,\n",
              " <a href=\"/courses-undergrad/fs/\">Foreign Studies (FS)</a>,\n",
              " <a href=\"/courses-undergrad/free/\">Free Elective (FREE)</a>,\n",
              " <a href=\"/courses-undergrad/fren/\">French (FREN)</a>,\n",
              " <a href=\"/courses-undergrad/gt/\">Georgia Tech (GT)</a>,\n",
              " <a href=\"/courses-undergrad/gtl/\">Georgia Tech Lorraine (GTL)</a>,\n",
              " <a href=\"/courses-undergrad/grmn/\">German (GRMN)</a>,\n",
              " <a href=\"/courses-undergrad/hs/\">Health Systems (HS)</a>,\n",
              " <a href=\"/courses-undergrad/hebw/\">Hebrew (HEBW)</a>,\n",
              " <a href=\"/courses-undergrad/hin/\">Hindi (HIN)</a>,\n",
              " <a href=\"/courses-undergrad/hist/\">History (HIST)</a>,\n",
              " <a href=\"/courses-undergrad/hts/\">History, Technology &amp; Society (HTS)</a>,\n",
              " <a href=\"/courses-undergrad/hum/\">Humanities Elective (HUM)</a>,\n",
              " <a href=\"/courses-undergrad/id/\">Industrial Design (ID)</a>,\n",
              " <a href=\"/courses-undergrad/isye/\">Industrial &amp; Systems Engr (ISYE)</a>,\n",
              " <a href=\"/courses-undergrad/inta/\">International Affairs (INTA)</a>,\n",
              " <a href=\"/courses-undergrad/intn/\">Internship (INTN)</a>,\n",
              " <a href=\"/courses-undergrad/iac/\">Ivan Allen College (IAC)</a>,\n",
              " <a href=\"/courses-undergrad/japn/\">Japanese (JAPN)</a>,\n",
              " <a href=\"/courses-undergrad/kor/\">Korean (KOR)</a>,\n",
              " <a href=\"/courses-undergrad/latn/\">Latin (LATN)</a>,\n",
              " <a href=\"/courses-undergrad/ls/\">Learning Support (LS)</a>,\n",
              " <a href=\"/courses-undergrad/ling/\">Linguistics (LING)</a>,\n",
              " <a href=\"/courses-undergrad/lmc/\">Literature, Media &amp; Comm (LMC)</a>,\n",
              " <a href=\"/courses-undergrad/mgt/\">Management (MGT)</a>,\n",
              " <a href=\"/courses-undergrad/mse/\">Materials Science &amp; Engr (MSE)</a>,\n",
              " <a href=\"/courses-undergrad/math/\">Mathematics (MATH)</a>,\n",
              " <a href=\"/courses-undergrad/me/\">Mechanical Engineering (ME)</a>,\n",
              " <a href=\"/courses-undergrad/mp/\">Medical Physics (MP)</a>,\n",
              " <a href=\"/courses-undergrad/msl/\">Military Science &amp; Leadership (MSL)</a>,\n",
              " <a href=\"/courses-undergrad/ml/\">Modern Languages (ML)</a>,\n",
              " <a href=\"/courses-undergrad/musi/\">Music (MUSI)</a>,\n",
              " <a href=\"/courses-undergrad/ns/\">Naval Science (NS)</a>,\n",
              " <a href=\"/courses-undergrad/neur/\">Neuroscience (NEUR)</a>,\n",
              " <a href=\"/courses-undergrad/nre/\">Nuclear &amp; Radiological Engr (NRE)</a>,\n",
              " <a href=\"/courses-undergrad/pers/\">Persian (PERS)</a>,\n",
              " <a href=\"/courses-undergrad/phil/\">Philosophy (PHIL)</a>,\n",
              " <a href=\"/courses-undergrad/phys/\">Physics (PHYS)</a>,\n",
              " <a href=\"/courses-undergrad/pol/\">Political Science (POL)</a>,\n",
              " <a href=\"/courses-undergrad/dopp/\">Professional Practive (DOPP)</a>,\n",
              " <a href=\"/courses-undergrad/psyc/\">Psychology (PSYC)</a>,\n",
              " <a href=\"/courses-undergrad/pubp/\">Public Policy (PUBP)</a>,\n",
              " <a href=\"/courses-undergrad/russ/\">Russian (RUSS)</a>,\n",
              " <a href=\"/courses-undergrad/sci/\">Science (SCI)</a>,\n",
              " <a href=\"/courses-undergrad/sls/\">Serve Learn Sustain (SLS)</a>,\n",
              " <a href=\"/courses-undergrad/ss/\">Social Science Elective (SS)</a>,\n",
              " <a href=\"/courses-undergrad/soc/\">Sociology (SOC)</a>,\n",
              " <a href=\"/courses-undergrad/span/\">Spanish (SPAN)</a>,\n",
              " <a href=\"/courses-undergrad/swah/\">Swahili (SWAH)</a>,\n",
              " <a class=\"option-name\" href=\"/courses-undergrad/courses-undergrad.pdf\" role=\"button\">Download Page (PDF)</a>]"
            ]
          },
          "execution_count": 4,
          "metadata": {},
          "output_type": "execute_result"
        }
      ],
      "source": [
        "# Webpages are structured using HTML, and links are typically stored in <a> (anchor) tags.\n",
        "\n",
        "school_list = []\n",
        "for item in soup.findAll('a'): # find all anchor (<a>) tags\n",
        "    try:\n",
        "        if '/courses-undergrad/' in item['href']: # check \"/courses-undergrad/\" is inside \"href\"\n",
        "            school_list.append(item)\n",
        "    except KeyError:   # skip any missing 'href' attributes\n",
        "        pass\n",
        "\n",
        "school_list"
      ]
    },
    {
      "cell_type": "code",
      "execution_count": 5,
      "id": "f1e8dc84",
      "metadata": {
        "colab": {
          "base_uri": "https://localhost:8080/"
        },
        "id": "f1e8dc84",
        "outputId": "be903389-751a-428d-e372-cc80b43184b6"
      },
      "outputs": [
        {
          "data": {
            "text/plain": [
              "['',\n",
              " '',\n",
              " 'acct',\n",
              " 'ae',\n",
              " 'as',\n",
              " 'apph',\n",
              " 'arbc',\n",
              " 'arch',\n",
              " 'bios',\n",
              " 'biol',\n",
              " 'bmed',\n",
              " 'bc',\n",
              " 'cetl',\n",
              " 'chbe',\n",
              " 'chem',\n",
              " 'chin',\n",
              " 'cp',\n",
              " 'cee',\n",
              " 'coa',\n",
              " 'coe',\n",
              " 'cos',\n",
              " 'cx',\n",
              " 'cs',\n",
              " 'coop',\n",
              " 'ucga',\n",
              " 'eas',\n",
              " 'econ',\n",
              " 'ece',\n",
              " 'engl',\n",
              " 'fs',\n",
              " 'free',\n",
              " 'fren',\n",
              " 'gt',\n",
              " 'gtl',\n",
              " 'grmn',\n",
              " 'hs',\n",
              " 'hebw',\n",
              " 'hin',\n",
              " 'hist',\n",
              " 'hts',\n",
              " 'hum',\n",
              " 'id',\n",
              " 'isye',\n",
              " 'inta',\n",
              " 'intn',\n",
              " 'iac',\n",
              " 'japn',\n",
              " 'kor',\n",
              " 'latn',\n",
              " 'ls',\n",
              " 'ling',\n",
              " 'lmc',\n",
              " 'mgt',\n",
              " 'mse',\n",
              " 'math',\n",
              " 'me',\n",
              " 'mp',\n",
              " 'msl',\n",
              " 'ml',\n",
              " 'musi',\n",
              " 'ns',\n",
              " 'neur',\n",
              " 'nre',\n",
              " 'pers',\n",
              " 'phil',\n",
              " 'phys',\n",
              " 'pol',\n",
              " 'dopp',\n",
              " 'psyc',\n",
              " 'pubp',\n",
              " 'russ',\n",
              " 'sci',\n",
              " 'sls',\n",
              " 'ss',\n",
              " 'soc',\n",
              " 'span',\n",
              " 'swah',\n",
              " 'courses-undergrad.pdf']"
            ]
          },
          "execution_count": 5,
          "metadata": {},
          "output_type": "execute_result"
        }
      ],
      "source": [
        "# We just need the department codes from the URLs:\n",
        "\n",
        "school_code = []\n",
        "for a in school_list:\n",
        "    school_code.append(a['href'].split('/')[2]) #extract part after the second /\n",
        "\n",
        "school_code\n",
        "# Hint: Information in the below link can be helpful\n",
        "# https://stackoverflow.com/questions/44790295/how-to-extract-partial-text-from-href-using-beautifulsoup-in-python\n"
      ]
    },
    {
      "cell_type": "code",
      "execution_count": 6,
      "id": "1ff65da0",
      "metadata": {
        "colab": {
          "base_uri": "https://localhost:8080/"
        },
        "id": "1ff65da0",
        "outputId": "50a1128a-9f7a-4268-8423-5dd2b193cc55"
      },
      "outputs": [
        {
          "data": {
            "text/plain": [
              "['acct',\n",
              " 'ae',\n",
              " 'as',\n",
              " 'apph',\n",
              " 'arbc',\n",
              " 'arch',\n",
              " 'bios',\n",
              " 'biol',\n",
              " 'bmed',\n",
              " 'bc',\n",
              " 'cetl',\n",
              " 'chbe',\n",
              " 'chem',\n",
              " 'chin',\n",
              " 'cp',\n",
              " 'cee',\n",
              " 'coa',\n",
              " 'coe',\n",
              " 'cos',\n",
              " 'cx',\n",
              " 'cs',\n",
              " 'coop',\n",
              " 'ucga',\n",
              " 'eas',\n",
              " 'econ',\n",
              " 'ece',\n",
              " 'engl',\n",
              " 'fs',\n",
              " 'free',\n",
              " 'fren',\n",
              " 'gt',\n",
              " 'gtl',\n",
              " 'grmn',\n",
              " 'hs',\n",
              " 'hebw',\n",
              " 'hin',\n",
              " 'hist',\n",
              " 'hts',\n",
              " 'hum',\n",
              " 'id',\n",
              " 'isye',\n",
              " 'inta',\n",
              " 'intn',\n",
              " 'iac',\n",
              " 'japn',\n",
              " 'kor',\n",
              " 'latn',\n",
              " 'ls',\n",
              " 'ling',\n",
              " 'lmc',\n",
              " 'mgt',\n",
              " 'mse',\n",
              " 'math',\n",
              " 'me',\n",
              " 'mp',\n",
              " 'msl',\n",
              " 'ml',\n",
              " 'musi',\n",
              " 'ns',\n",
              " 'neur',\n",
              " 'nre',\n",
              " 'pers',\n",
              " 'phil',\n",
              " 'phys',\n",
              " 'pol',\n",
              " 'dopp',\n",
              " 'psyc',\n",
              " 'pubp',\n",
              " 'russ',\n",
              " 'sci',\n",
              " 'sls',\n",
              " 'ss',\n",
              " 'soc',\n",
              " 'span',\n",
              " 'swah']"
            ]
          },
          "execution_count": 6,
          "metadata": {},
          "output_type": "execute_result"
        }
      ],
      "source": [
        "# after manual check,\n",
        "# delete NAs and 'courses-undergrad.pdf' from school_code\n",
        "\n",
        "school_code = [code for code in school_code if code and code != 'courses-undergrad.pdf']\n",
        "school_code"
      ]
    },
    {
      "cell_type": "code",
      "execution_count": 7,
      "id": "cb08db1f",
      "metadata": {
        "colab": {
          "base_uri": "https://localhost:8080/"
        },
        "id": "cb08db1f",
        "outputId": "3a61d52c-8145-4c6d-fdab-b59d22a61e4f"
      },
      "outputs": [
        {
          "data": {
            "text/plain": [
              "['http://www.catalog.gatech.edu/courses-grad/acct',\n",
              " 'http://www.catalog.gatech.edu/courses-grad/ae',\n",
              " 'http://www.catalog.gatech.edu/courses-grad/as',\n",
              " 'http://www.catalog.gatech.edu/courses-grad/apph',\n",
              " 'http://www.catalog.gatech.edu/courses-grad/arbc',\n",
              " 'http://www.catalog.gatech.edu/courses-grad/arch',\n",
              " 'http://www.catalog.gatech.edu/courses-grad/bios',\n",
              " 'http://www.catalog.gatech.edu/courses-grad/biol',\n",
              " 'http://www.catalog.gatech.edu/courses-grad/bmed',\n",
              " 'http://www.catalog.gatech.edu/courses-grad/bc',\n",
              " 'http://www.catalog.gatech.edu/courses-grad/cetl',\n",
              " 'http://www.catalog.gatech.edu/courses-grad/chbe',\n",
              " 'http://www.catalog.gatech.edu/courses-grad/chem',\n",
              " 'http://www.catalog.gatech.edu/courses-grad/chin',\n",
              " 'http://www.catalog.gatech.edu/courses-grad/cp',\n",
              " 'http://www.catalog.gatech.edu/courses-grad/cee',\n",
              " 'http://www.catalog.gatech.edu/courses-grad/coa',\n",
              " 'http://www.catalog.gatech.edu/courses-grad/coe',\n",
              " 'http://www.catalog.gatech.edu/courses-grad/cos',\n",
              " 'http://www.catalog.gatech.edu/courses-grad/cx',\n",
              " 'http://www.catalog.gatech.edu/courses-grad/cs',\n",
              " 'http://www.catalog.gatech.edu/courses-grad/coop',\n",
              " 'http://www.catalog.gatech.edu/courses-grad/ucga',\n",
              " 'http://www.catalog.gatech.edu/courses-grad/eas',\n",
              " 'http://www.catalog.gatech.edu/courses-grad/econ',\n",
              " 'http://www.catalog.gatech.edu/courses-grad/ece',\n",
              " 'http://www.catalog.gatech.edu/courses-grad/engl',\n",
              " 'http://www.catalog.gatech.edu/courses-grad/fs',\n",
              " 'http://www.catalog.gatech.edu/courses-grad/free',\n",
              " 'http://www.catalog.gatech.edu/courses-grad/fren',\n",
              " 'http://www.catalog.gatech.edu/courses-grad/gt',\n",
              " 'http://www.catalog.gatech.edu/courses-grad/gtl',\n",
              " 'http://www.catalog.gatech.edu/courses-grad/grmn',\n",
              " 'http://www.catalog.gatech.edu/courses-grad/hs',\n",
              " 'http://www.catalog.gatech.edu/courses-grad/hebw',\n",
              " 'http://www.catalog.gatech.edu/courses-grad/hin',\n",
              " 'http://www.catalog.gatech.edu/courses-grad/hist',\n",
              " 'http://www.catalog.gatech.edu/courses-grad/hts',\n",
              " 'http://www.catalog.gatech.edu/courses-grad/hum',\n",
              " 'http://www.catalog.gatech.edu/courses-grad/id',\n",
              " 'http://www.catalog.gatech.edu/courses-grad/isye',\n",
              " 'http://www.catalog.gatech.edu/courses-grad/inta',\n",
              " 'http://www.catalog.gatech.edu/courses-grad/intn',\n",
              " 'http://www.catalog.gatech.edu/courses-grad/iac',\n",
              " 'http://www.catalog.gatech.edu/courses-grad/japn',\n",
              " 'http://www.catalog.gatech.edu/courses-grad/kor',\n",
              " 'http://www.catalog.gatech.edu/courses-grad/latn',\n",
              " 'http://www.catalog.gatech.edu/courses-grad/ls',\n",
              " 'http://www.catalog.gatech.edu/courses-grad/ling',\n",
              " 'http://www.catalog.gatech.edu/courses-grad/lmc',\n",
              " 'http://www.catalog.gatech.edu/courses-grad/mgt',\n",
              " 'http://www.catalog.gatech.edu/courses-grad/mse',\n",
              " 'http://www.catalog.gatech.edu/courses-grad/math',\n",
              " 'http://www.catalog.gatech.edu/courses-grad/me',\n",
              " 'http://www.catalog.gatech.edu/courses-grad/mp',\n",
              " 'http://www.catalog.gatech.edu/courses-grad/msl',\n",
              " 'http://www.catalog.gatech.edu/courses-grad/ml',\n",
              " 'http://www.catalog.gatech.edu/courses-grad/musi',\n",
              " 'http://www.catalog.gatech.edu/courses-grad/ns',\n",
              " 'http://www.catalog.gatech.edu/courses-grad/neur',\n",
              " 'http://www.catalog.gatech.edu/courses-grad/nre',\n",
              " 'http://www.catalog.gatech.edu/courses-grad/pers',\n",
              " 'http://www.catalog.gatech.edu/courses-grad/phil',\n",
              " 'http://www.catalog.gatech.edu/courses-grad/phys',\n",
              " 'http://www.catalog.gatech.edu/courses-grad/pol',\n",
              " 'http://www.catalog.gatech.edu/courses-grad/dopp',\n",
              " 'http://www.catalog.gatech.edu/courses-grad/psyc',\n",
              " 'http://www.catalog.gatech.edu/courses-grad/pubp',\n",
              " 'http://www.catalog.gatech.edu/courses-grad/russ',\n",
              " 'http://www.catalog.gatech.edu/courses-grad/sci',\n",
              " 'http://www.catalog.gatech.edu/courses-grad/sls',\n",
              " 'http://www.catalog.gatech.edu/courses-grad/ss',\n",
              " 'http://www.catalog.gatech.edu/courses-grad/soc',\n",
              " 'http://www.catalog.gatech.edu/courses-grad/span',\n",
              " 'http://www.catalog.gatech.edu/courses-grad/swah']"
            ]
          },
          "execution_count": 7,
          "metadata": {},
          "output_type": "execute_result"
        }
      ],
      "source": [
        "# Insert code that loops through the school_code  and merge with url = \"http://www.catalog.gatech.edu/courses-grad/\"\n",
        "\n",
        "school_urls=[]\n",
        "for school in school_code:\n",
        "    # Your code here\n",
        "    school_urls.append('http://www.catalog.gatech.edu/courses-grad/' + school)\n",
        "\n",
        "school_urls"
      ]
    },
    {
      "cell_type": "code",
      "execution_count": 8,
      "id": "d3955baa",
      "metadata": {
        "id": "d3955baa"
      },
      "outputs": [],
      "source": [
        "data = []\n",
        "for page in school_urls:\n",
        "    page = requests.get(page)\n",
        "    soup = BeautifulSoup(page.text, 'html.parser')\n",
        "    course_list_codes = soup.find_all('strong')\n",
        "\n",
        "\n",
        "    for course_list in course_list_codes:\n",
        "        codes = course_list.contents[0]\n",
        "        data.append((codes))\n",
        "\n",
        "\n",
        "    with open('index.csv', 'a') as csv_file:\n",
        "        writer = csv.writer(csv_file)\n",
        "        for codes in data:\n",
        "          writer.writerow([codes])\n"
      ]
    },
    {
      "cell_type": "code",
      "execution_count": 9,
      "id": "6IBMcBmwS5Eu",
      "metadata": {
        "colab": {
          "base_uri": "https://localhost:8080/"
        },
        "id": "6IBMcBmwS5Eu",
        "outputId": "257d2498-5624-4573-ba09-d55e5c6b9b6f"
      },
      "outputs": [
        {
          "name": "stdout",
          "output_type": "stream",
          "text": [
            "BMED 6517.  Machine Learning in Biosciences.  3 Credit Hours.\n",
            "CHBE 6745.  Data Analytics for Chemical Engineers.  3 Credit Hours.\n",
            "CP 6006.  Visualization for Planners.  1 Credit Hour.\n",
            "CP 6543.  Public Health Analytics.  3 Credit Hours.\n",
            "CP 6545.  Climate Change Analytics.  3 Credit Hours.\n",
            "CP 6960.  Urban Analytics Capstone Project.  1 Credit Hour.\n",
            "CP 6962.  Urban Analytics Capstone Project.  5 Credit Hours.\n",
            "CEE 6327.  Statistical Methods for Environmental Data Analysis and Prediction.  3 Credit Hours.\n",
            "CS 6220.  Big Data Systems and Analytics.  3 Credit Hours.\n",
            "CS 6480.  Computer Visualization Techniques.  3 Credit Hours.\n",
            "CS 6485.  Visualization Methods for Science and Engineering.  3 Credit Hours.\n",
            "CS 6730.  Data Visualization: Principles and Applications.  3 Credit Hours.\n",
            "CS 7450.  Information Visualization.  3 Credit Hours.\n",
            "CS 7451.  Human-Centered Data Analysis.  3 Credit Hours.\n",
            "CS 7545.  Theoretical Foundations of Machine Learning.  3 Credit Hours.\n",
            "CS 7641.  Machine Learning.  3 Credit Hours.\n",
            "CS 7644.  Machine Learning for Robotics.  3 Credit Hours.\n",
            "CS 7645.  Numerical Machine Learning.  3 Credit Hours.\n",
            "CS 7646.  Machine Learning for Trading.  3 Credit Hours.\n",
            "CS 7647.  Machine Learning with Limited Supervision.  3 Credit Hours.\n",
            "CS 7651.  Human and Machine Learning.  3 Credit Hours.\n",
            "CS 7750.  Mathematical Foundations of Machine Learning.  3 Credit Hours.\n",
            "CS 7751.  Probabilistic Graphical Models in Machine Learning.  3 Credit Hours.\n",
            "EAS 6490.  Advanced Environmental Data Analysis.  3 Credit Hours.\n",
            "ECON 6011.  Coding and Data Analysis for Economics I.  1 Credit Hour.\n",
            "ECON 6012.  Coding and Data Analysis for Economics II.  1 Credit Hour.\n",
            "ECON 6013.  Coding and Data Analysis for Economics III.  1 Credit Hour.\n",
            "ECE 6254.  Statistical Machine Learning.  3 Credit Hours.\n",
            "ECE 6756.  Online Decision Making in Machine Learning.  3 Credit Hours.\n",
            "ECE 7750.  Mathematical Foundations of Machine Learning.  3 Credit Hours.\n",
            "ECE 7751.  Probabilistic Graphical Models in Machine Learning.  3 Credit Hours.\n",
            "ISYE 6404.  Nonparametric Data Analysis.  3 Credit Hours.\n",
            "ISYE 6501.  Introduction to Analytics Modeling.  3 Credit Hours.\n",
            "ISYE 6525.  High Dimensional Data Analytics.  3 Credit Hours.\n",
            "ISYE 6740.  Computational Data Analysis: Learning, Mining, and Computation.  3 Credit Hours.\n",
            "ISYE 6748.  Applied Analytics Practicum.  6 Credit Hours.\n",
            "ISYE 6783.  Statistical Techniques of Financial Data Analysis.  3 Credit Hours.\n",
            "ISYE 6815.  Industrial Predictive Analytics.  3 Credit Hours.\n",
            "ISYE 7405.  Multivariate Data Analysis.  3 Credit Hours.\n",
            "ISYE 7750.  Mathematical Foundations of Machine Learning.  3 Credit Hours.\n",
            "ISYE 7751.  Probabilistic Graphical Models in Machine Learning.  3 Credit Hours.\n",
            "INTA 6450.  Data Analytics and Security.  3 Credit Hours.\n",
            "MGT 6046.  Applications of Data Analytics in Accounting.  3 Credit Hours.\n",
            "MGT 6203.  Data Analytics in Business.  3 Credit Hours.\n",
            "MGT 6213.  Business Analytics for Managers.  3 Credit Hours.\n",
            "MGT 6214.  Business Analytics Practicum.  3 Credit Hours.\n",
            "MGT 6310.  Marketing Research: Analytics.  3 Credit Hours.\n",
            "MGT 6314.  Understanding Markets with Data Science.  3 Credit Hours.\n",
            "MGT 6400.  Pricing Analytics and Revenue Management.  3 Credit Hours.\n",
            "MGT 6451.  Business Intelligence and Analytics.  3 Credit Hours.\n",
            "MGT 6452.  Machine Learning for Business.  3 Credit Hours.\n",
            "MGT 6655.  Business Data Preparation and Visualization.  3 Credit Hours.\n",
            "MGT 6748.  Applied Analytics Practicum.  6 Credit Hours.\n",
            "MGT 7607.  Economics of Artificial Intelligence, and Machine Learning.  1.5 Credit Hour.\n",
            "MATH 6783.  Statistical Techniques of Financial Data Analysis.  3 Credit Hours.\n",
            "PHYS 6262.  Data Science for Physicists.  3 Credit Hours.\n",
            "PUBP 6114.  Applied Policy Methods and Data Analysis.  3 Credit Hours.\n",
            "PUBP 8751.  Big Data and Public Policy.  3 Credit Hours.\n"
          ]
        }
      ],
      "source": [
        "# define keywords related to data science\n",
        "sub = ['Data Science', 'Big Data', 'Analytics', 'Data Analysis',\n",
        "       'Machine Learning', 'Visualization']\n",
        "\n",
        "# Hint: if you run this cell multiple times, remember to delete the existing Relevant_Courses.csv\n",
        "# file so that it does not duplicate.\n",
        "for codes in data:\n",
        "    contains = any(keyword in codes for keyword in sub)\n",
        "    if contains:\n",
        "        print(codes)\n",
        "        with open('Relevant_Courses.csv', 'a') as csv_file:\n",
        "            writer = csv.writer(csv_file)\n",
        "            writer.writerow([codes])"
      ]
    },
    {
      "cell_type": "code",
      "execution_count": 10,
      "id": "da0ef5bf",
      "metadata": {
        "id": "da0ef5bf"
      },
      "outputs": [],
      "source": [
        "# read in the dataframe using Pandas\n",
        "df = pd.read_csv(\"Relevant_Courses.csv\", header = None)"
      ]
    },
    {
      "cell_type": "code",
      "execution_count": 11,
      "id": "H3eNrYH2TMzr",
      "metadata": {
        "colab": {
          "base_uri": "https://localhost:8080/",
          "height": 204
        },
        "id": "H3eNrYH2TMzr",
        "outputId": "3a60ea2c-1503-4b16-e99b-dd10d546622c"
      },
      "outputs": [
        {
          "data": {
            "text/html": [
              "<div>\n",
              "<style scoped>\n",
              "    .dataframe tbody tr th:only-of-type {\n",
              "        vertical-align: middle;\n",
              "    }\n",
              "\n",
              "    .dataframe tbody tr th {\n",
              "        vertical-align: top;\n",
              "    }\n",
              "\n",
              "    .dataframe thead th {\n",
              "        text-align: right;\n",
              "    }\n",
              "</style>\n",
              "<table border=\"1\" class=\"dataframe\">\n",
              "  <thead>\n",
              "    <tr style=\"text-align: right;\">\n",
              "      <th></th>\n",
              "      <th>0</th>\n",
              "    </tr>\n",
              "  </thead>\n",
              "  <tbody>\n",
              "    <tr>\n",
              "      <th>0</th>\n",
              "      <td>BMED 6517.  Machine Learning in Biosciences.  ...</td>\n",
              "    </tr>\n",
              "    <tr>\n",
              "      <th>1</th>\n",
              "      <td>CHBE 6745.  Data Analytics for Chemical Engine...</td>\n",
              "    </tr>\n",
              "    <tr>\n",
              "      <th>2</th>\n",
              "      <td>CP 6006.  Visualization for Planners.  1 Credi...</td>\n",
              "    </tr>\n",
              "    <tr>\n",
              "      <th>3</th>\n",
              "      <td>CP 6543.  Public Health Analytics.  3 Credit H...</td>\n",
              "    </tr>\n",
              "    <tr>\n",
              "      <th>4</th>\n",
              "      <td>CP 6545.  Climate Change Analytics.  3 Credit ...</td>\n",
              "    </tr>\n",
              "  </tbody>\n",
              "</table>\n",
              "</div>"
            ],
            "text/plain": [
              "                                                   0\n",
              "0  BMED 6517.  Machine Learning in Biosciences.  ...\n",
              "1  CHBE 6745.  Data Analytics for Chemical Engine...\n",
              "2  CP 6006.  Visualization for Planners.  1 Credi...\n",
              "3  CP 6543.  Public Health Analytics.  3 Credit H...\n",
              "4  CP 6545.  Climate Change Analytics.  3 Credit ..."
            ]
          },
          "execution_count": 11,
          "metadata": {},
          "output_type": "execute_result"
        }
      ],
      "source": [
        "df.head(5)"
      ]
    },
    {
      "cell_type": "code",
      "execution_count": 12,
      "id": "f19f12ba",
      "metadata": {
        "colab": {
          "base_uri": "https://localhost:8080/",
          "height": 142
        },
        "id": "f19f12ba",
        "outputId": "6565a8c3-71ba-4bee-9f0b-e51f55f6a730"
      },
      "outputs": [
        {
          "data": {
            "text/html": [
              "<div>\n",
              "<style scoped>\n",
              "    .dataframe tbody tr th:only-of-type {\n",
              "        vertical-align: middle;\n",
              "    }\n",
              "\n",
              "    .dataframe tbody tr th {\n",
              "        vertical-align: top;\n",
              "    }\n",
              "\n",
              "    .dataframe thead th {\n",
              "        text-align: right;\n",
              "    }\n",
              "</style>\n",
              "<table border=\"1\" class=\"dataframe\">\n",
              "  <thead>\n",
              "    <tr style=\"text-align: right;\">\n",
              "      <th></th>\n",
              "      <th>full_course_number</th>\n",
              "      <th>course_name</th>\n",
              "      <th>uncleaned_credit_hours</th>\n",
              "      <th>3</th>\n",
              "      <th>4</th>\n",
              "      <th>credit_hours</th>\n",
              "      <th>course_code</th>\n",
              "    </tr>\n",
              "  </thead>\n",
              "  <tbody>\n",
              "    <tr>\n",
              "      <th>0</th>\n",
              "      <td>BMED 6517</td>\n",
              "      <td>Machine Learning in Biosciences</td>\n",
              "      <td>3 Credit Hours</td>\n",
              "      <td></td>\n",
              "      <td>None</td>\n",
              "      <td>3</td>\n",
              "      <td>BMED</td>\n",
              "    </tr>\n",
              "    <tr>\n",
              "      <th>1</th>\n",
              "      <td>CHBE 6745</td>\n",
              "      <td>Data Analytics for Chemical Engineers</td>\n",
              "      <td>3 Credit Hours</td>\n",
              "      <td></td>\n",
              "      <td>None</td>\n",
              "      <td>3</td>\n",
              "      <td>CHBE</td>\n",
              "    </tr>\n",
              "    <tr>\n",
              "      <th>2</th>\n",
              "      <td>CP 6006</td>\n",
              "      <td>Visualization for Planners</td>\n",
              "      <td>1 Credit Hour</td>\n",
              "      <td></td>\n",
              "      <td>None</td>\n",
              "      <td>1</td>\n",
              "      <td>CP</td>\n",
              "    </tr>\n",
              "  </tbody>\n",
              "</table>\n",
              "</div>"
            ],
            "text/plain": [
              "  full_course_number                              course_name  \\\n",
              "0          BMED 6517          Machine Learning in Biosciences   \n",
              "1          CHBE 6745    Data Analytics for Chemical Engineers   \n",
              "2            CP 6006               Visualization for Planners   \n",
              "\n",
              "  uncleaned_credit_hours 3     4  credit_hours course_code  \n",
              "0         3 Credit Hours    None             3        BMED  \n",
              "1         3 Credit Hours    None             3        CHBE  \n",
              "2          1 Credit Hour    None             1          CP  "
            ]
          },
          "execution_count": 12,
          "metadata": {},
          "output_type": "execute_result"
        }
      ],
      "source": [
        "# clean the dataset for analysis\n",
        "cleaned_df = pd.DataFrame(df[0].str.split(\".\").tolist())\n",
        "cleaned_df = cleaned_df.rename(columns ={0: \"full_course_number\", 1: \"course_name\", 2: \"uncleaned_credit_hours\"})\n",
        "cleaned_df['credit_hours'] = cleaned_df[\"uncleaned_credit_hours\"].str.strip().str.split().str[0].astype(int)\n",
        "cleaned_df['course_code'] = cleaned_df[\"full_course_number\"].str.strip().str.split().str[0]\n",
        "cleaned_df.head(3)"
      ]
    }
  ],
  "metadata": {
    "colab": {
      "provenance": []
    },
    "kernelspec": {
      "display_name": "venv",
      "language": "python",
      "name": "python3"
    },
    "language_info": {
      "codemirror_mode": {
        "name": "ipython",
        "version": 3
      },
      "file_extension": ".py",
      "mimetype": "text/x-python",
      "name": "python",
      "nbconvert_exporter": "python",
      "pygments_lexer": "ipython3",
      "version": "3.11.11"
    }
  },
  "nbformat": 4,
  "nbformat_minor": 5
}
