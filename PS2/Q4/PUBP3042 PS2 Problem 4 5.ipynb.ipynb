{
  "cells": [
    {
      "cell_type": "markdown",
      "id": "48f5b25c",
      "metadata": {
        "id": "48f5b25c"
      },
      "source": [
        "# Demo: Web Scraping and Data Preprocessing with the GT Catalog"
      ]
    },
    {
      "cell_type": "markdown",
      "id": "bae30648",
      "metadata": {
        "id": "bae30648"
      },
      "source": [
        "### Automate collecting GT course catalog website URLs for all the schools."
      ]
    },
    {
      "cell_type": "code",
      "execution_count": 16,
      "id": "4c89999f",
      "metadata": {
        "id": "4c89999f"
      },
      "outputs": [],
      "source": [
        "# load required packages\n",
        "import requests # grab the content from the websites\n",
        "from bs4 import BeautifulSoup #https://www.crummy.com/software/BeautifulSoup/bs4/doc/\n",
        "import csv\n",
        "import pandas as pd"
      ]
    },
    {
      "cell_type": "code",
      "execution_count": 17,
      "id": "7327a74a",
      "metadata": {
        "id": "7327a74a"
      },
      "outputs": [],
      "source": [
        "url = \"https://catalog.gatech.edu/courses-grad/\" # undergraduate level courses\n",
        "\n",
        "page = requests.get(url) # fetch the page\n",
        "\n",
        "soup = BeautifulSoup(page.text, 'html.parser') # parse the HTML content"
      ]
    },
    {
      "cell_type": "code",
      "execution_count": 18,
      "id": "4c1b8296",
      "metadata": {
        "colab": {
          "base_uri": "https://localhost:8080/"
        },
        "id": "4c1b8296",
        "outputId": "1740ae2b-b9ba-4b4f-cbb6-4a253f17f11f"
      },
      "outputs": [
        {
          "name": "stderr",
          "output_type": "stream",
          "text": [
            "/tmp/ipykernel_7781/4004629979.py:4: DeprecationWarning: Call to deprecated method findAll. (Replaced by find_all) -- Deprecated since version 4.0.0.\n",
            "  for item in soup.findAll('a'): # find all anchor (<a>) tags\n"
          ]
        },
        {
          "data": {
            "text/plain": [
              "[<a href=\"/courses-grad/\">Graduate-​Level Courses</a>,\n",
              " <a href=\"/courses-grad/ae/\">Aerospace Engineering (AE)</a>,\n",
              " <a href=\"/courses-grad/apph/\">Applied Physiology (APPH)</a>,\n",
              " <a href=\"/courses-grad/ase/\">Applied Systems Engineering (ASE)</a>,\n",
              " <a href=\"/courses-grad/arch/\">Architecture (ARCH)</a>,\n",
              " <a href=\"/courses-grad/bios/\">Biological Sciences (BIOS)</a>,\n",
              " <a href=\"/courses-grad/biol/\">Biology (BIOL)</a>,\n",
              " <a href=\"/courses-grad/bmej/\">Biomed Engr/Joint Emory PKU (BMEJ)</a>,\n",
              " <a href=\"/courses-grad/bmed/\">Biomedical Engineering (BMED)</a>,\n",
              " <a href=\"/courses-grad/bmem/\">Biomedical Engr/Joint Emory (BMEM)</a>,\n",
              " <a href=\"/courses-grad/bc/\">Building Construction (BC)</a>,\n",
              " <a href=\"/courses-grad/bcp/\">Building Construction - Professional (BCP)</a>,\n",
              " <a href=\"/courses-grad/cetl/\">Center Enhancement-Teach/Learn (CETL)</a>,\n",
              " <a href=\"/courses-grad/chbe/\">Chemical &amp; Biomolecular Engr (CHBE)</a>,\n",
              " <a href=\"/courses-grad/chem/\">Chemistry (CHEM)</a>,\n",
              " <a href=\"/courses-grad/chin/\">Chinese (CHIN)</a>,\n",
              " <a href=\"/courses-grad/cp/\">City Planning (CP)</a>,\n",
              " <a href=\"/courses-grad/cee/\">Civil and Environmental Engr (CEE)</a>,\n",
              " <a href=\"/courses-grad/coa/\">College of Architecture (COA)</a>,\n",
              " <a href=\"/courses-grad/cse/\">Computational Science &amp; Engr (CSE)</a>,\n",
              " <a href=\"/courses-grad/cs/\">Computer Science (CS)</a>,\n",
              " <a href=\"/courses-grad/coop/\">Cooperative Work Assignment (COOP)</a>,\n",
              " <a href=\"/courses-grad/ucga/\">Cross Enrollment (UCGA)</a>,\n",
              " <a href=\"/courses-grad/eas/\">Earth and Atmospheric Sciences (EAS)</a>,\n",
              " <a href=\"/courses-grad/econ/\">Economics (ECON)</a>,\n",
              " <a href=\"/courses-grad/ecep/\">Elect &amp; Comp Engr-Professional (ECEP)</a>,\n",
              " <a href=\"/courses-grad/ece/\">Electrical &amp; Computer Engr (ECE)</a>,\n",
              " <a href=\"/courses-grad/fs/\">Foreign Studies (FS)</a>,\n",
              " <a href=\"/courses-grad/free/\">Free Elective (FREE)</a>,\n",
              " <a href=\"/courses-grad/fren/\">French (FREN)</a>,\n",
              " <a href=\"/courses-grad/gtl/\">Georgia Tech Lorraine (GTL)</a>,\n",
              " <a href=\"/courses-grad/grmn/\">German (GRMN)</a>,\n",
              " <a href=\"/courses-grad/hs/\">Health Systems (HS)</a>,\n",
              " <a href=\"/courses-grad/hts/\">History, Technology &amp; Society (HTS)</a>,\n",
              " <a href=\"/courses-grad/id/\">Industrial Design (ID)</a>,\n",
              " <a href=\"/courses-grad/isye/\">Industrial &amp; Systems Engr (ISYE)</a>,\n",
              " <a href=\"/courses-grad/inta/\">International Affairs (INTA)</a>,\n",
              " <a href=\"/courses-grad/il/\">International Logistics (IL)</a>,\n",
              " <a href=\"/courses-grad/imba/\">Intl Executive MBA (IMBA)</a>,\n",
              " <a href=\"/courses-grad/japn/\">Japanese (JAPN)</a>,\n",
              " <a href=\"/courses-grad/kor/\">Korean (KOR)</a>,\n",
              " <a href=\"/courses-grad/ling/\">Linguistics (LING)</a>,\n",
              " <a href=\"/courses-grad/lmc/\">Literature, Media &amp; Comm (LMC)</a>,\n",
              " <a href=\"/courses-grad/mgt/\">Management (MGT)</a>,\n",
              " <a href=\"/courses-grad/mot/\">Management of Technology (MOT)</a>,\n",
              " <a href=\"/courses-grad/mldr/\">Manufacturing Leadership (MLDR)</a>,\n",
              " <a href=\"/courses-grad/mse/\">Materials Science &amp; Engr (MSE)</a>,\n",
              " <a href=\"/courses-grad/math/\">Mathematics (MATH)</a>,\n",
              " <a href=\"/courses-grad/me/\">Mechanical Engineering (ME)</a>,\n",
              " <a href=\"/courses-grad/mp/\">Medical Physics (MP)</a>,\n",
              " <a href=\"/courses-grad/ml/\">Modern Languages (ML)</a>,\n",
              " <a href=\"/courses-grad/musi/\">Music (MUSI)</a>,\n",
              " <a href=\"/courses-grad/nre/\">Nuclear &amp; Radiological Engr (NRE)</a>,\n",
              " <a href=\"/courses-grad/phil/\">Philosophy (PHIL)</a>,\n",
              " <a href=\"/courses-grad/phys/\">Physics (PHYS)</a>,\n",
              " <a href=\"/courses-grad/ptfe/\">Polymer, Textile and Fiber Eng (PTFE)</a>,\n",
              " <a href=\"/courses-grad/psyc/\">Psychology (PSYC)</a>,\n",
              " <a href=\"/courses-grad/pubj/\">Public Policy/Joint GSU PhD (PUBJ)</a>,\n",
              " <a href=\"/courses-grad/pubp/\">Public Policy (PUBP)</a>,\n",
              " <a href=\"/courses-grad/russ/\">Russian (RUSS)</a>,\n",
              " <a href=\"/courses-grad/span/\">Spanish (SPAN)</a>,\n",
              " <a class=\"option-name\" href=\"/courses-grad/courses-grad.pdf\" role=\"button\">Download Page (PDF)</a>]"
            ]
          },
          "execution_count": 18,
          "metadata": {},
          "output_type": "execute_result"
        }
      ],
      "source": [
        "# Webpages are structured using HTML, and links are typically stored in <a> (anchor) tags.\n",
        "\n",
        "school_list = []\n",
        "for item in soup.findAll('a'): # find all anchor (<a>) tags\n",
        "    try:\n",
        "        if '/courses-grad/' in item['href']: # check \"/courses-undergrad/\" is inside \"href\"\n",
        "            school_list.append(item)\n",
        "    except KeyError:   # skip any missing 'href' attributes\n",
        "        pass\n",
        "\n",
        "school_list"
      ]
    },
    {
      "cell_type": "code",
      "execution_count": 19,
      "id": "f1e8dc84",
      "metadata": {
        "colab": {
          "base_uri": "https://localhost:8080/"
        },
        "id": "f1e8dc84",
        "outputId": "be903389-751a-428d-e372-cc80b43184b6"
      },
      "outputs": [
        {
          "data": {
            "text/plain": [
              "['',\n",
              " 'ae',\n",
              " 'apph',\n",
              " 'ase',\n",
              " 'arch',\n",
              " 'bios',\n",
              " 'biol',\n",
              " 'bmej',\n",
              " 'bmed',\n",
              " 'bmem',\n",
              " 'bc',\n",
              " 'bcp',\n",
              " 'cetl',\n",
              " 'chbe',\n",
              " 'chem',\n",
              " 'chin',\n",
              " 'cp',\n",
              " 'cee',\n",
              " 'coa',\n",
              " 'cse',\n",
              " 'cs',\n",
              " 'coop',\n",
              " 'ucga',\n",
              " 'eas',\n",
              " 'econ',\n",
              " 'ecep',\n",
              " 'ece',\n",
              " 'fs',\n",
              " 'free',\n",
              " 'fren',\n",
              " 'gtl',\n",
              " 'grmn',\n",
              " 'hs',\n",
              " 'hts',\n",
              " 'id',\n",
              " 'isye',\n",
              " 'inta',\n",
              " 'il',\n",
              " 'imba',\n",
              " 'japn',\n",
              " 'kor',\n",
              " 'ling',\n",
              " 'lmc',\n",
              " 'mgt',\n",
              " 'mot',\n",
              " 'mldr',\n",
              " 'mse',\n",
              " 'math',\n",
              " 'me',\n",
              " 'mp',\n",
              " 'ml',\n",
              " 'musi',\n",
              " 'nre',\n",
              " 'phil',\n",
              " 'phys',\n",
              " 'ptfe',\n",
              " 'psyc',\n",
              " 'pubj',\n",
              " 'pubp',\n",
              " 'russ',\n",
              " 'span',\n",
              " 'courses-grad.pdf']"
            ]
          },
          "execution_count": 19,
          "metadata": {},
          "output_type": "execute_result"
        }
      ],
      "source": [
        "# We just need the department codes from the URLs:\n",
        "\n",
        "school_code = []\n",
        "for a in school_list:\n",
        "    school_code.append(a['href'].split('/')[2]) #extract part after the second /\n",
        "\n",
        "school_code\n",
        "# Hint: Information in the below link can be helpful\n",
        "# https://stackoverflow.com/questions/44790295/how-to-extract-partial-text-from-href-using-beautifulsoup-in-python\n"
      ]
    },
    {
      "cell_type": "code",
      "execution_count": 20,
      "id": "1ff65da0",
      "metadata": {
        "colab": {
          "base_uri": "https://localhost:8080/"
        },
        "id": "1ff65da0",
        "outputId": "50a1128a-9f7a-4268-8423-5dd2b193cc55"
      },
      "outputs": [
        {
          "data": {
            "text/plain": [
              "['ae',\n",
              " 'apph',\n",
              " 'ase',\n",
              " 'arch',\n",
              " 'bios',\n",
              " 'biol',\n",
              " 'bmej',\n",
              " 'bmed',\n",
              " 'bmem',\n",
              " 'bc',\n",
              " 'bcp',\n",
              " 'cetl',\n",
              " 'chbe',\n",
              " 'chem',\n",
              " 'chin',\n",
              " 'cp',\n",
              " 'cee',\n",
              " 'coa',\n",
              " 'cse',\n",
              " 'cs',\n",
              " 'coop',\n",
              " 'ucga',\n",
              " 'eas',\n",
              " 'econ',\n",
              " 'ecep',\n",
              " 'ece',\n",
              " 'fs',\n",
              " 'free',\n",
              " 'fren',\n",
              " 'gtl',\n",
              " 'grmn',\n",
              " 'hs',\n",
              " 'hts',\n",
              " 'id',\n",
              " 'isye',\n",
              " 'inta',\n",
              " 'il',\n",
              " 'imba',\n",
              " 'japn',\n",
              " 'kor',\n",
              " 'ling',\n",
              " 'lmc',\n",
              " 'mgt',\n",
              " 'mot',\n",
              " 'mldr',\n",
              " 'mse',\n",
              " 'math',\n",
              " 'me',\n",
              " 'mp',\n",
              " 'ml',\n",
              " 'musi',\n",
              " 'nre',\n",
              " 'phil',\n",
              " 'phys',\n",
              " 'ptfe',\n",
              " 'psyc',\n",
              " 'pubj',\n",
              " 'pubp',\n",
              " 'russ',\n",
              " 'span']"
            ]
          },
          "execution_count": 20,
          "metadata": {},
          "output_type": "execute_result"
        }
      ],
      "source": [
        "# after manual check,\n",
        "# delete NAs and 'courses-undergrad.pdf' from school_code\n",
        "\n",
        "school_code = [code for code in school_code if code and code != 'courses-grad.pdf']\n",
        "school_code"
      ]
    },
    {
      "cell_type": "code",
      "execution_count": 21,
      "id": "cb08db1f",
      "metadata": {
        "colab": {
          "base_uri": "https://localhost:8080/"
        },
        "id": "cb08db1f",
        "outputId": "3a61d52c-8145-4c6d-fdab-b59d22a61e4f"
      },
      "outputs": [
        {
          "data": {
            "text/plain": [
              "['http://www.catalog.gatech.edu/courses-grad/ae',\n",
              " 'http://www.catalog.gatech.edu/courses-grad/apph',\n",
              " 'http://www.catalog.gatech.edu/courses-grad/ase',\n",
              " 'http://www.catalog.gatech.edu/courses-grad/arch',\n",
              " 'http://www.catalog.gatech.edu/courses-grad/bios',\n",
              " 'http://www.catalog.gatech.edu/courses-grad/biol',\n",
              " 'http://www.catalog.gatech.edu/courses-grad/bmej',\n",
              " 'http://www.catalog.gatech.edu/courses-grad/bmed',\n",
              " 'http://www.catalog.gatech.edu/courses-grad/bmem',\n",
              " 'http://www.catalog.gatech.edu/courses-grad/bc',\n",
              " 'http://www.catalog.gatech.edu/courses-grad/bcp',\n",
              " 'http://www.catalog.gatech.edu/courses-grad/cetl',\n",
              " 'http://www.catalog.gatech.edu/courses-grad/chbe',\n",
              " 'http://www.catalog.gatech.edu/courses-grad/chem',\n",
              " 'http://www.catalog.gatech.edu/courses-grad/chin',\n",
              " 'http://www.catalog.gatech.edu/courses-grad/cp',\n",
              " 'http://www.catalog.gatech.edu/courses-grad/cee',\n",
              " 'http://www.catalog.gatech.edu/courses-grad/coa',\n",
              " 'http://www.catalog.gatech.edu/courses-grad/cse',\n",
              " 'http://www.catalog.gatech.edu/courses-grad/cs',\n",
              " 'http://www.catalog.gatech.edu/courses-grad/coop',\n",
              " 'http://www.catalog.gatech.edu/courses-grad/ucga',\n",
              " 'http://www.catalog.gatech.edu/courses-grad/eas',\n",
              " 'http://www.catalog.gatech.edu/courses-grad/econ',\n",
              " 'http://www.catalog.gatech.edu/courses-grad/ecep',\n",
              " 'http://www.catalog.gatech.edu/courses-grad/ece',\n",
              " 'http://www.catalog.gatech.edu/courses-grad/fs',\n",
              " 'http://www.catalog.gatech.edu/courses-grad/free',\n",
              " 'http://www.catalog.gatech.edu/courses-grad/fren',\n",
              " 'http://www.catalog.gatech.edu/courses-grad/gtl',\n",
              " 'http://www.catalog.gatech.edu/courses-grad/grmn',\n",
              " 'http://www.catalog.gatech.edu/courses-grad/hs',\n",
              " 'http://www.catalog.gatech.edu/courses-grad/hts',\n",
              " 'http://www.catalog.gatech.edu/courses-grad/id',\n",
              " 'http://www.catalog.gatech.edu/courses-grad/isye',\n",
              " 'http://www.catalog.gatech.edu/courses-grad/inta',\n",
              " 'http://www.catalog.gatech.edu/courses-grad/il',\n",
              " 'http://www.catalog.gatech.edu/courses-grad/imba',\n",
              " 'http://www.catalog.gatech.edu/courses-grad/japn',\n",
              " 'http://www.catalog.gatech.edu/courses-grad/kor',\n",
              " 'http://www.catalog.gatech.edu/courses-grad/ling',\n",
              " 'http://www.catalog.gatech.edu/courses-grad/lmc',\n",
              " 'http://www.catalog.gatech.edu/courses-grad/mgt',\n",
              " 'http://www.catalog.gatech.edu/courses-grad/mot',\n",
              " 'http://www.catalog.gatech.edu/courses-grad/mldr',\n",
              " 'http://www.catalog.gatech.edu/courses-grad/mse',\n",
              " 'http://www.catalog.gatech.edu/courses-grad/math',\n",
              " 'http://www.catalog.gatech.edu/courses-grad/me',\n",
              " 'http://www.catalog.gatech.edu/courses-grad/mp',\n",
              " 'http://www.catalog.gatech.edu/courses-grad/ml',\n",
              " 'http://www.catalog.gatech.edu/courses-grad/musi',\n",
              " 'http://www.catalog.gatech.edu/courses-grad/nre',\n",
              " 'http://www.catalog.gatech.edu/courses-grad/phil',\n",
              " 'http://www.catalog.gatech.edu/courses-grad/phys',\n",
              " 'http://www.catalog.gatech.edu/courses-grad/ptfe',\n",
              " 'http://www.catalog.gatech.edu/courses-grad/psyc',\n",
              " 'http://www.catalog.gatech.edu/courses-grad/pubj',\n",
              " 'http://www.catalog.gatech.edu/courses-grad/pubp',\n",
              " 'http://www.catalog.gatech.edu/courses-grad/russ',\n",
              " 'http://www.catalog.gatech.edu/courses-grad/span']"
            ]
          },
          "execution_count": 21,
          "metadata": {},
          "output_type": "execute_result"
        }
      ],
      "source": [
        "# Insert code that loops through the school_code  and merge with url = \"http://www.catalog.gatech.edu/courses-grad/\"\n",
        "\n",
        "school_urls=[]\n",
        "for school in school_code:\n",
        "    # Your code here\n",
        "    school_urls.append('http://www.catalog.gatech.edu/courses-grad/' + school)\n",
        "\n",
        "school_urls"
      ]
    },
    {
      "cell_type": "code",
      "execution_count": 22,
      "id": "d3955baa",
      "metadata": {
        "id": "d3955baa"
      },
      "outputs": [],
      "source": [
        "data = []\n",
        "for page in school_urls:\n",
        "    page = requests.get(page)\n",
        "    soup = BeautifulSoup(page.text, 'html.parser')\n",
        "    course_list_codes = soup.find_all('strong')\n",
        "\n",
        "\n",
        "    for course_list in course_list_codes:\n",
        "        codes = course_list.contents[0]\n",
        "        data.append((codes))\n",
        "\n",
        "\n",
        "    with open('index.csv', 'a') as csv_file:\n",
        "        writer = csv.writer(csv_file)\n",
        "        for codes in data:\n",
        "          writer.writerow([codes])\n"
      ]
    },
    {
      "cell_type": "code",
      "execution_count": 23,
      "id": "6IBMcBmwS5Eu",
      "metadata": {
        "colab": {
          "base_uri": "https://localhost:8080/"
        },
        "id": "6IBMcBmwS5Eu",
        "outputId": "257d2498-5624-4573-ba09-d55e5c6b9b6f"
      },
      "outputs": [
        {
          "name": "stdout",
          "output_type": "stream",
          "text": [
            "BMED 6517.  Machine Learning in Biosciences.  3 Credit Hours.\n",
            "CHBE 6745.  Data Analytics for Chemical Engineers.  3 Credit Hours.\n",
            "CP 6006.  Visualization for Planners.  1 Credit Hour.\n",
            "CP 6543.  Public Health Analytics.  3 Credit Hours.\n",
            "CP 6545.  Climate Change Analytics.  3 Credit Hours.\n",
            "CP 6960.  Urban Analytics Capstone Project.  1 Credit Hour.\n",
            "CP 6962.  Urban Analytics Capstone Project.  5 Credit Hours.\n",
            "CEE 6327.  Statistical Methods for Environmental Data Analysis and Prediction.  3 Credit Hours.\n",
            "CSE 6040.  Computing for Data Analysis: Methods and Tools.  3 Credit Hours.\n",
            "CSE 6242.  Data and Visual Analytics.  3 Credit Hours.\n",
            "CSE 6243.  Advanced Topics in Machine Learning.  3 Credit Hours.\n",
            "CSE 6250.  Big Data Analytics for Healthcare.  3 Credit Hours.\n",
            "CSE 6740.  Computational Data Analysis: Learning, Mining, and Computation.  3 Credit Hours.\n",
            "CSE 6748.  Applied Analytics Practicum.  6 Credit Hours.\n",
            "CSE 7750.  Mathematical Foundations of Machine Learning.  3 Credit Hours.\n",
            "CSE 7751.  Probabilistic Graphical Models in Machine Learning.  3 Credit Hours.\n",
            "CS 6220.  Big Data Systems and Analytics.  3 Credit Hours.\n",
            "CS 6480.  Computer Visualization Techniques.  3 Credit Hours.\n",
            "CS 6485.  Visualization Methods for Science and Engineering.  3 Credit Hours.\n",
            "CS 6601.  Artificial Intelligence.  3 Credit Hours.\n",
            "CS 6705.  Applications of Artificial Intelligence.  3 Credit Hours.\n",
            "CS 6730.  Data Visualization: Principles and Applications.  3 Credit Hours.\n",
            "CS 7450.  Information Visualization.  3 Credit Hours.\n",
            "CS 7451.  Human-Centered Data Analysis.  3 Credit Hours.\n",
            "CS 7545.  Theoretical Foundations of Machine Learning.  3 Credit Hours.\n",
            "CS 7612.  Artificial Intelligence Planning.  3 Credit Hours.\n",
            "CS 7632.  Game Artificial Intelligence.  3 Credit Hours.\n",
            "CS 7638.  Artificial Intelligence Techniques for Robotics.  3 Credit Hours.\n",
            "CS 7641.  Machine Learning.  3 Credit Hours.\n",
            "CS 7644.  Machine Learning for Robotics.  3 Credit Hours.\n",
            "CS 7645.  Numerical Machine Learning.  3 Credit Hours.\n",
            "CS 7646.  Machine Learning for Trading.  3 Credit Hours.\n",
            "CS 7647.  Machine Learning with Limited Supervision.  3 Credit Hours.\n",
            "CS 7651.  Human and Machine Learning.  3 Credit Hours.\n",
            "CS 7750.  Mathematical Foundations of Machine Learning.  3 Credit Hours.\n",
            "CS 7751.  Probabilistic Graphical Models in Machine Learning.  3 Credit Hours.\n",
            "EAS 6490.  Advanced Environmental Data Analysis.  3 Credit Hours.\n",
            "ECON 6011.  Coding and Data Analysis for Economics I.  1 Credit Hour.\n",
            "ECON 6012.  Coding and Data Analysis for Economics II.  1 Credit Hour.\n",
            "ECON 6013.  Coding and Data Analysis for Economics III.  1 Credit Hour.\n",
            "ECE 6254.  Statistical Machine Learning.  3 Credit Hours.\n",
            "ECE 6274.  Statistical  Natural Language Processing.  3 Credit Hours.\n",
            "ECE 6756.  Online Decision Making in Machine Learning.  3 Credit Hours.\n",
            "ECE 7750.  Mathematical Foundations of Machine Learning.  3 Credit Hours.\n",
            "ECE 7751.  Probabilistic Graphical Models in Machine Learning.  3 Credit Hours.\n",
            "ISYE 6404.  Nonparametric Data Analysis.  3 Credit Hours.\n",
            "ISYE 6501.  Introduction to Analytics Modeling.  3 Credit Hours.\n",
            "ISYE 6525.  High Dimensional Data Analytics.  3 Credit Hours.\n",
            "ISYE 6740.  Computational Data Analysis: Learning, Mining, and Computation.  3 Credit Hours.\n",
            "ISYE 6748.  Applied Analytics Practicum.  6 Credit Hours.\n",
            "ISYE 6783.  Statistical Techniques of Financial Data Analysis.  3 Credit Hours.\n",
            "ISYE 6815.  Industrial Predictive Analytics.  3 Credit Hours.\n",
            "ISYE 7405.  Multivariate Data Analysis.  3 Credit Hours.\n",
            "ISYE 7750.  Mathematical Foundations of Machine Learning.  3 Credit Hours.\n",
            "ISYE 7751.  Probabilistic Graphical Models in Machine Learning.  3 Credit Hours.\n",
            "INTA 6450.  Data Analytics and Security.  3 Credit Hours.\n",
            "IMBA 6021.  Data Analysis for Business.  2 Credit Hours.\n",
            "MGT 6046.  Applications of Data Analytics in Accounting.  3 Credit Hours.\n",
            "MGT 6203.  Data Analytics in Business.  3 Credit Hours.\n",
            "MGT 6213.  Business Analytics for Managers.  3 Credit Hours.\n",
            "MGT 6214.  Business Analytics Practicum.  3 Credit Hours.\n",
            "MGT 6310.  Marketing Research: Analytics.  3 Credit Hours.\n",
            "MGT 6314.  Understanding Markets with Data Science.  3 Credit Hours.\n",
            "MGT 6400.  Pricing Analytics and Revenue Management.  3 Credit Hours.\n",
            "MGT 6451.  Business Intelligence and Analytics.  3 Credit Hours.\n",
            "MGT 6452.  Machine Learning for Business.  3 Credit Hours.\n",
            "MGT 6655.  Business Data Preparation and Visualization.  3 Credit Hours.\n",
            "MGT 6748.  Applied Analytics Practicum.  6 Credit Hours.\n",
            "MGT 7607.  Economics of Artificial Intelligence, and Machine Learning.  1.5 Credit Hour.\n",
            "MOT 6115.  AI & Machine Learning for Business.  2 Credit Hours.\n",
            "MATH 6783.  Statistical Techniques of Financial Data Analysis.  3 Credit Hours.\n",
            "PHYS 6262.  Data Science for Physicists.  3 Credit Hours.\n",
            "PUBP 6114.  Applied Policy Methods and Data Analysis.  3 Credit Hours.\n",
            "PUBP 8751.  Big Data and Public Policy.  3 Credit Hours.\n"
          ]
        }
      ],
      "source": [
        "# define keywords related to data science\n",
        "sub = ['Data Science', 'Big Data', 'Analytics', 'Data Analysis',\n",
        "       'Machine Learning', 'Visualization', 'Natural Language Processing', 'Artificial Intelligence']\n",
        "\n",
        "# Hint: if you run this cell multiple times, remember to delete the existing Relevant_Courses.csv\n",
        "# file so that it does not duplicate.\n",
        "for codes in data:\n",
        "    contains = any(keyword in codes for keyword in sub)\n",
        "    if contains:\n",
        "        print(codes)\n",
        "        with open('Relevant_Courses.csv', 'a') as csv_file:\n",
        "            writer = csv.writer(csv_file)\n",
        "            writer.writerow([codes])"
      ]
    },
    {
      "cell_type": "code",
      "execution_count": 24,
      "id": "da0ef5bf",
      "metadata": {
        "id": "da0ef5bf"
      },
      "outputs": [],
      "source": [
        "# read in the dataframe using Pandas\n",
        "df = pd.read_csv(\"Relevant_Courses.csv\", header = None)"
      ]
    },
    {
      "cell_type": "code",
      "execution_count": 25,
      "id": "H3eNrYH2TMzr",
      "metadata": {
        "colab": {
          "base_uri": "https://localhost:8080/",
          "height": 204
        },
        "id": "H3eNrYH2TMzr",
        "outputId": "3a60ea2c-1503-4b16-e99b-dd10d546622c"
      },
      "outputs": [
        {
          "data": {
            "text/html": [
              "<div>\n",
              "<style scoped>\n",
              "    .dataframe tbody tr th:only-of-type {\n",
              "        vertical-align: middle;\n",
              "    }\n",
              "\n",
              "    .dataframe tbody tr th {\n",
              "        vertical-align: top;\n",
              "    }\n",
              "\n",
              "    .dataframe thead th {\n",
              "        text-align: right;\n",
              "    }\n",
              "</style>\n",
              "<table border=\"1\" class=\"dataframe\">\n",
              "  <thead>\n",
              "    <tr style=\"text-align: right;\">\n",
              "      <th></th>\n",
              "      <th>0</th>\n",
              "    </tr>\n",
              "  </thead>\n",
              "  <tbody>\n",
              "    <tr>\n",
              "      <th>0</th>\n",
              "      <td>BMED 6517.  Machine Learning in Biosciences.  ...</td>\n",
              "    </tr>\n",
              "    <tr>\n",
              "      <th>1</th>\n",
              "      <td>CHBE 6745.  Data Analytics for Chemical Engine...</td>\n",
              "    </tr>\n",
              "    <tr>\n",
              "      <th>2</th>\n",
              "      <td>CP 6006.  Visualization for Planners.  1 Credi...</td>\n",
              "    </tr>\n",
              "    <tr>\n",
              "      <th>3</th>\n",
              "      <td>CP 6543.  Public Health Analytics.  3 Credit H...</td>\n",
              "    </tr>\n",
              "    <tr>\n",
              "      <th>4</th>\n",
              "      <td>CP 6545.  Climate Change Analytics.  3 Credit ...</td>\n",
              "    </tr>\n",
              "  </tbody>\n",
              "</table>\n",
              "</div>"
            ],
            "text/plain": [
              "                                                   0\n",
              "0  BMED 6517.  Machine Learning in Biosciences.  ...\n",
              "1  CHBE 6745.  Data Analytics for Chemical Engine...\n",
              "2  CP 6006.  Visualization for Planners.  1 Credi...\n",
              "3  CP 6543.  Public Health Analytics.  3 Credit H...\n",
              "4  CP 6545.  Climate Change Analytics.  3 Credit ..."
            ]
          },
          "execution_count": 25,
          "metadata": {},
          "output_type": "execute_result"
        }
      ],
      "source": [
        "df.head(5)"
      ]
    },
    {
      "cell_type": "code",
      "execution_count": 26,
      "id": "f19f12ba",
      "metadata": {
        "colab": {
          "base_uri": "https://localhost:8080/",
          "height": 142
        },
        "id": "f19f12ba",
        "outputId": "6565a8c3-71ba-4bee-9f0b-e51f55f6a730"
      },
      "outputs": [
        {
          "data": {
            "text/html": [
              "<div>\n",
              "<style scoped>\n",
              "    .dataframe tbody tr th:only-of-type {\n",
              "        vertical-align: middle;\n",
              "    }\n",
              "\n",
              "    .dataframe tbody tr th {\n",
              "        vertical-align: top;\n",
              "    }\n",
              "\n",
              "    .dataframe thead th {\n",
              "        text-align: right;\n",
              "    }\n",
              "</style>\n",
              "<table border=\"1\" class=\"dataframe\">\n",
              "  <thead>\n",
              "    <tr style=\"text-align: right;\">\n",
              "      <th></th>\n",
              "      <th>full_course_number</th>\n",
              "      <th>course_name</th>\n",
              "      <th>uncleaned_credit_hours</th>\n",
              "      <th>3</th>\n",
              "      <th>4</th>\n",
              "      <th>credit_hours</th>\n",
              "      <th>course_code</th>\n",
              "    </tr>\n",
              "  </thead>\n",
              "  <tbody>\n",
              "    <tr>\n",
              "      <th>0</th>\n",
              "      <td>BMED 6517</td>\n",
              "      <td>Machine Learning in Biosciences</td>\n",
              "      <td>3 Credit Hours</td>\n",
              "      <td></td>\n",
              "      <td>None</td>\n",
              "      <td>3</td>\n",
              "      <td>BMED</td>\n",
              "    </tr>\n",
              "    <tr>\n",
              "      <th>1</th>\n",
              "      <td>CHBE 6745</td>\n",
              "      <td>Data Analytics for Chemical Engineers</td>\n",
              "      <td>3 Credit Hours</td>\n",
              "      <td></td>\n",
              "      <td>None</td>\n",
              "      <td>3</td>\n",
              "      <td>CHBE</td>\n",
              "    </tr>\n",
              "    <tr>\n",
              "      <th>2</th>\n",
              "      <td>CP 6006</td>\n",
              "      <td>Visualization for Planners</td>\n",
              "      <td>1 Credit Hour</td>\n",
              "      <td></td>\n",
              "      <td>None</td>\n",
              "      <td>1</td>\n",
              "      <td>CP</td>\n",
              "    </tr>\n",
              "  </tbody>\n",
              "</table>\n",
              "</div>"
            ],
            "text/plain": [
              "  full_course_number                              course_name  \\\n",
              "0          BMED 6517          Machine Learning in Biosciences   \n",
              "1          CHBE 6745    Data Analytics for Chemical Engineers   \n",
              "2            CP 6006               Visualization for Planners   \n",
              "\n",
              "  uncleaned_credit_hours 3     4  credit_hours course_code  \n",
              "0         3 Credit Hours    None             3        BMED  \n",
              "1         3 Credit Hours    None             3        CHBE  \n",
              "2          1 Credit Hour    None             1          CP  "
            ]
          },
          "execution_count": 26,
          "metadata": {},
          "output_type": "execute_result"
        }
      ],
      "source": [
        "# clean the dataset for analysis\n",
        "cleaned_df = pd.DataFrame(df[0].str.split(\".\").tolist())\n",
        "cleaned_df = cleaned_df.rename(columns ={0: \"full_course_number\", 1: \"course_name\", 2: \"uncleaned_credit_hours\"})\n",
        "cleaned_df['credit_hours'] = cleaned_df[\"uncleaned_credit_hours\"].str.strip().str.split().str[0].astype(int)\n",
        "cleaned_df['course_code'] = cleaned_df[\"full_course_number\"].str.strip().str.split().str[0]\n",
        "cleaned_df.head(3)"
      ]
    },
    {
      "cell_type": "code",
      "execution_count": 27,
      "id": "5f412432",
      "metadata": {},
      "outputs": [
        {
          "name": "stdout",
          "output_type": "stream",
          "text": [
            "Of all the classes offered, 26.277372262773724% are social sciences.\n"
          ]
        }
      ],
      "source": [
        "management_classes = cleaned_df[cleaned_df['course_code'] == \"MGT\"]\n",
        "intra_classes = cleaned_df[cleaned_df['course_code'] == \"INTA\"]\n",
        "econ_classes = cleaned_df[cleaned_df['course_code'] == \"ECON\"]\n",
        "pubp_classes = cleaned_df[cleaned_df['course_code'] == \"PUBP\"]\n",
        "\n",
        "total_ssc = management_classes.shape[0] + intra_classes.shape[0] + econ_classes.shape[0] + pubp_classes.shape[0]\n",
        "total = cleaned_df.shape[0]\n",
        "\n",
        "percent = total_ssc / total * 100\n",
        "\n",
        "print(f\"Of all the classes offered, {percent}% are social sciences.\")\n"
      ]
    }
  ],
  "metadata": {
    "colab": {
      "provenance": []
    },
    "kernelspec": {
      "display_name": "venv",
      "language": "python",
      "name": "python3"
    },
    "language_info": {
      "codemirror_mode": {
        "name": "ipython",
        "version": 3
      },
      "file_extension": ".py",
      "mimetype": "text/x-python",
      "name": "python",
      "nbconvert_exporter": "python",
      "pygments_lexer": "ipython3",
      "version": "3.11.11"
    }
  },
  "nbformat": 4,
  "nbformat_minor": 5
}
